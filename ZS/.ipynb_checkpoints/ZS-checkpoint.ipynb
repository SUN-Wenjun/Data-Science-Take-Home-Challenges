{
 "cells": [
  {
   "cell_type": "markdown",
   "metadata": {},
   "source": [
    "# Executive Summary"
   ]
  },
  {
   "cell_type": "code",
   "execution_count": 1,
   "metadata": {},
   "outputs": [
    {
     "data": {
      "text/html": [
       "        <script type=\"text/javascript\">\n",
       "        window.PlotlyConfig = {MathJaxConfig: 'local'};\n",
       "        if (window.MathJax) {MathJax.Hub.Config({SVG: {font: \"STIX-Web\"}});}\n",
       "        if (typeof require !== 'undefined') {\n",
       "        require.undef(\"plotly\");\n",
       "        requirejs.config({\n",
       "            paths: {\n",
       "                'plotly': ['https://cdn.plot.ly/plotly-latest.min']\n",
       "            }\n",
       "        });\n",
       "        require(['plotly'], function(Plotly) {\n",
       "            window._Plotly = Plotly;\n",
       "        });\n",
       "        }\n",
       "        </script>\n",
       "        "
      ]
     },
     "metadata": {},
     "output_type": "display_data"
    }
   ],
   "source": [
    "import os\n",
    "import plotly.offline as py#visualization\n",
    "py.init_notebook_mode(connected=True)#visualization\n",
    "import plotly.graph_objs as go#visualization\n",
    "import plotly.tools as tls#visualization\n",
    "import plotly.figure_factory as ff#visualization\n",
    "import os\n",
    "import pandas as pd\n",
    "import numpy as np\n",
    "import matplotlib.pyplot as plt\n",
    "%matplotlib inline\n",
    "import seaborn as sns\n",
    "\n",
    "from sklearn.linear_model import LogisticRegression\n",
    "from sklearn.model_selection import GridSearchCV, train_test_split\n",
    "from sklearn.ensemble import RandomForestClassifier, GradientBoostingClassifier\n",
    "from sklearn.metrics import confusion_matrix,accuracy_score,roc_auc_score,roc_curve,scorer,f1_score,precision_recall_curve\n",
    "from sklearn.feature_selection import RFE\n",
    "#from sklearn.pipeline import Pipeline, FeatureUnion\n",
    "from sklearn.preprocessing import StandardScaler\n",
    "\n"
   ]
  },
  {
   "cell_type": "code",
   "execution_count": 23,
   "metadata": {},
   "outputs": [],
   "source": [
    "# from lightgbm import LGBMClassifier\n",
    "# from xgboost import XGBClassifier\n"
   ]
  },
  {
   "cell_type": "markdown",
   "metadata": {},
   "source": [
    "## 1.Data Operations"
   ]
  },
  {
   "cell_type": "code",
   "execution_count": 4,
   "metadata": {},
   "outputs": [],
   "source": [
    "#os.getcwd()\n",
    "os.chdir('/Users/yupinghe/Documents/Data-Science-Take-Home-Challenges/Kaggle Facebook')"
   ]
  },
  {
   "cell_type": "code",
   "execution_count": 5,
   "metadata": {},
   "outputs": [],
   "source": [
    "# Import data\n",
    "train = pd.read_csv('train.csv')\n",
    "test = pd.read_csv('test.csv')\n",
    "bids = pd.read_csv('bids.csv')\n",
    "\n",
    "print(train.shape)\n",
    "print(test.shape)\n",
    "print(bids.shape)"
   ]
  },
  {
   "cell_type": "code",
   "execution_count": 6,
   "metadata": {},
   "outputs": [
    {
     "name": "stdout",
     "output_type": "stream",
     "text": [
      "<class 'pandas.core.frame.DataFrame'>\n",
      "Int64Index: 3071224 entries, 0 to 3071223\n",
      "Data columns (total 12 columns):\n",
      "bid_id             int64\n",
      "bidder_id          object\n",
      "auction            object\n",
      "merchandise        object\n",
      "device             object\n",
      "time               float64\n",
      "country            object\n",
      "ip                 object\n",
      "url                object\n",
      "payment_account    object\n",
      "address            object\n",
      "outcome            float64\n",
      "dtypes: float64(2), int64(1), object(9)\n",
      "memory usage: 304.6+ MB\n"
     ]
    }
   ],
   "source": [
    "# Merge into 1 dataset\n",
    "d = pd.merge(bids, train, left_on='bidder_id', right_on='bidder_id', how='inner')\n",
    "d['time'] = d['time'].astype(float)\n",
    "d.info()"
   ]
  },
  {
   "cell_type": "code",
   "execution_count": 7,
   "metadata": {},
   "outputs": [
    {
     "data": {
      "text/html": [
       "<div>\n",
       "<style scoped>\n",
       "    .dataframe tbody tr th:only-of-type {\n",
       "        vertical-align: middle;\n",
       "    }\n",
       "\n",
       "    .dataframe tbody tr th {\n",
       "        vertical-align: top;\n",
       "    }\n",
       "\n",
       "    .dataframe thead th {\n",
       "        text-align: right;\n",
       "    }\n",
       "</style>\n",
       "<table border=\"1\" class=\"dataframe\">\n",
       "  <thead>\n",
       "    <tr style=\"text-align: right;\">\n",
       "      <th></th>\n",
       "      <th>0</th>\n",
       "      <th>1</th>\n",
       "      <th>2</th>\n",
       "      <th>3</th>\n",
       "      <th>4</th>\n",
       "      <th>5</th>\n",
       "      <th>6</th>\n",
       "      <th>7</th>\n",
       "      <th>8</th>\n",
       "      <th>9</th>\n",
       "      <th>10</th>\n",
       "      <th>11</th>\n",
       "    </tr>\n",
       "  </thead>\n",
       "  <tbody>\n",
       "    <tr>\n",
       "      <th>index</th>\n",
       "      <td>bid_id</td>\n",
       "      <td>bidder_id</td>\n",
       "      <td>auction</td>\n",
       "      <td>merchandise</td>\n",
       "      <td>device</td>\n",
       "      <td>time</td>\n",
       "      <td>country</td>\n",
       "      <td>ip</td>\n",
       "      <td>url</td>\n",
       "      <td>payment_account</td>\n",
       "      <td>address</td>\n",
       "      <td>outcome</td>\n",
       "    </tr>\n",
       "    <tr>\n",
       "      <th>0</th>\n",
       "      <td>0</td>\n",
       "      <td>0</td>\n",
       "      <td>0</td>\n",
       "      <td>0</td>\n",
       "      <td>0</td>\n",
       "      <td>0</td>\n",
       "      <td>2701</td>\n",
       "      <td>0</td>\n",
       "      <td>0</td>\n",
       "      <td>0</td>\n",
       "      <td>0</td>\n",
       "      <td>0</td>\n",
       "    </tr>\n",
       "  </tbody>\n",
       "</table>\n",
       "</div>"
      ],
      "text/plain": [
       "           0          1        2            3       4     5        6   7   \\\n",
       "index  bid_id  bidder_id  auction  merchandise  device  time  country  ip   \n",
       "0           0          0        0            0       0     0     2701   0   \n",
       "\n",
       "        8                9        10       11  \n",
       "index  url  payment_account  address  outcome  \n",
       "0        0                0        0        0  "
      ]
     },
     "execution_count": 7,
     "metadata": {},
     "output_type": "execute_result"
    }
   ],
   "source": [
    "d.isna().sum().reset_index().transpose()"
   ]
  },
  {
   "cell_type": "markdown",
   "metadata": {},
   "source": [
    "## 2. Data Quality Report"
   ]
  },
  {
   "cell_type": "markdown",
   "metadata": {},
   "source": [
    "## 2.1 bid_id"
   ]
  },
  {
   "cell_type": "code",
   "execution_count": 7,
   "metadata": {},
   "outputs": [
    {
     "data": {
      "text/plain": [
       "1.0"
      ]
     },
     "execution_count": 7,
     "metadata": {},
     "output_type": "execute_result"
    }
   ],
   "source": [
    "# bid_id - unique identifier\n",
    "d['bid_id'].nunique()/len(d['bid_id'])"
   ]
  },
  {
   "cell_type": "markdown",
   "metadata": {},
   "source": [
    "## 2.2 bidder_id"
   ]
  },
  {
   "cell_type": "code",
   "execution_count": 8,
   "metadata": {},
   "outputs": [
    {
     "name": "stdout",
     "output_type": "stream",
     "text": [
      "1984\n",
      "0.0006459965147446099\n"
     ]
    },
    {
     "data": {
      "text/html": [
       "<div>\n",
       "<style scoped>\n",
       "    .dataframe tbody tr th:only-of-type {\n",
       "        vertical-align: middle;\n",
       "    }\n",
       "\n",
       "    .dataframe tbody tr th {\n",
       "        vertical-align: top;\n",
       "    }\n",
       "\n",
       "    .dataframe thead th {\n",
       "        text-align: right;\n",
       "    }\n",
       "</style>\n",
       "<table border=\"1\" class=\"dataframe\">\n",
       "  <thead>\n",
       "    <tr style=\"text-align: right;\">\n",
       "      <th></th>\n",
       "      <th>0</th>\n",
       "      <th>1</th>\n",
       "      <th>2</th>\n",
       "      <th>3</th>\n",
       "      <th>4</th>\n",
       "      <th>5</th>\n",
       "      <th>6</th>\n",
       "      <th>7</th>\n",
       "      <th>8</th>\n",
       "      <th>9</th>\n",
       "      <th>...</th>\n",
       "      <th>1974</th>\n",
       "      <th>1975</th>\n",
       "      <th>1976</th>\n",
       "      <th>1977</th>\n",
       "      <th>1978</th>\n",
       "      <th>1979</th>\n",
       "      <th>1980</th>\n",
       "      <th>1981</th>\n",
       "      <th>1982</th>\n",
       "      <th>1983</th>\n",
       "    </tr>\n",
       "  </thead>\n",
       "  <tbody>\n",
       "    <tr>\n",
       "      <th>index</th>\n",
       "      <td>f5b2bbad20d1d7ded3ed960393bec0f40u6hn</td>\n",
       "      <td>197e90906939267ace2422e78e8e83889znqp</td>\n",
       "      <td>a58ace8b671a7531c88814bc86b2a34cf0crb</td>\n",
       "      <td>9655ccc7c0c193f1549475f02c54dce45kjw7</td>\n",
       "      <td>6c8ffec692e88d81e1b18d47818abb04v6llr</td>\n",
       "      <td>6713e820273f591bdff7d26a48ee30c5k4iii</td>\n",
       "      <td>ac2d643e0c0d3bfe8e54e5a961c6cfdb5xn9v</td>\n",
       "      <td>d6517684989560cbb0da1fb2f5bbba9b9y2st</td>\n",
       "      <td>ae45f9b94d86f931c84c94f3975e3d7bkv2r0</td>\n",
       "      <td>cffb5f3c1f4ca815d0f643fcb2f2f316beod4</td>\n",
       "      <td>...</td>\n",
       "      <td>e2554dc14d54c3b7be85c59dbc1425f77qv4a</td>\n",
       "      <td>a13da89a3a54ac9b4ced156542afca5ddyumw</td>\n",
       "      <td>b9cb81e5855add059728cf932f0624fefbi2t</td>\n",
       "      <td>cbe756ce81f5c420a1f7079791ed9aa2js2u7</td>\n",
       "      <td>a0420d3961adf890fccf4b43899708f6h40zs</td>\n",
       "      <td>21580623ea81c5b0b82aaf74890218e5mio2z</td>\n",
       "      <td>8d638f6da12614d6b369249410c3d278n8qme</td>\n",
       "      <td>177b031b4a77f28ff167b427ca967b52jetgo</td>\n",
       "      <td>44c38c27b9de757c8c7c05cf07b7e3eb14qpt</td>\n",
       "      <td>0381a69b7a061e9ace2798fd48f1f537mgq57</td>\n",
       "    </tr>\n",
       "    <tr>\n",
       "      <th>bidder_id</th>\n",
       "      <td>515033</td>\n",
       "      <td>236413</td>\n",
       "      <td>192565</td>\n",
       "      <td>161935</td>\n",
       "      <td>84319</td>\n",
       "      <td>73357</td>\n",
       "      <td>66027</td>\n",
       "      <td>58195</td>\n",
       "      <td>54987</td>\n",
       "      <td>51421</td>\n",
       "      <td>...</td>\n",
       "      <td>1</td>\n",
       "      <td>1</td>\n",
       "      <td>1</td>\n",
       "      <td>1</td>\n",
       "      <td>1</td>\n",
       "      <td>1</td>\n",
       "      <td>1</td>\n",
       "      <td>1</td>\n",
       "      <td>1</td>\n",
       "      <td>1</td>\n",
       "    </tr>\n",
       "  </tbody>\n",
       "</table>\n",
       "<p>2 rows × 1984 columns</p>\n",
       "</div>"
      ],
      "text/plain": [
       "                                            0     \\\n",
       "index      f5b2bbad20d1d7ded3ed960393bec0f40u6hn   \n",
       "bidder_id                                 515033   \n",
       "\n",
       "                                            1     \\\n",
       "index      197e90906939267ace2422e78e8e83889znqp   \n",
       "bidder_id                                 236413   \n",
       "\n",
       "                                            2     \\\n",
       "index      a58ace8b671a7531c88814bc86b2a34cf0crb   \n",
       "bidder_id                                 192565   \n",
       "\n",
       "                                            3     \\\n",
       "index      9655ccc7c0c193f1549475f02c54dce45kjw7   \n",
       "bidder_id                                 161935   \n",
       "\n",
       "                                            4     \\\n",
       "index      6c8ffec692e88d81e1b18d47818abb04v6llr   \n",
       "bidder_id                                  84319   \n",
       "\n",
       "                                            5     \\\n",
       "index      6713e820273f591bdff7d26a48ee30c5k4iii   \n",
       "bidder_id                                  73357   \n",
       "\n",
       "                                            6     \\\n",
       "index      ac2d643e0c0d3bfe8e54e5a961c6cfdb5xn9v   \n",
       "bidder_id                                  66027   \n",
       "\n",
       "                                            7     \\\n",
       "index      d6517684989560cbb0da1fb2f5bbba9b9y2st   \n",
       "bidder_id                                  58195   \n",
       "\n",
       "                                            8     \\\n",
       "index      ae45f9b94d86f931c84c94f3975e3d7bkv2r0   \n",
       "bidder_id                                  54987   \n",
       "\n",
       "                                            9     ...  \\\n",
       "index      cffb5f3c1f4ca815d0f643fcb2f2f316beod4  ...   \n",
       "bidder_id                                  51421  ...   \n",
       "\n",
       "                                            1974  \\\n",
       "index      e2554dc14d54c3b7be85c59dbc1425f77qv4a   \n",
       "bidder_id                                      1   \n",
       "\n",
       "                                            1975  \\\n",
       "index      a13da89a3a54ac9b4ced156542afca5ddyumw   \n",
       "bidder_id                                      1   \n",
       "\n",
       "                                            1976  \\\n",
       "index      b9cb81e5855add059728cf932f0624fefbi2t   \n",
       "bidder_id                                      1   \n",
       "\n",
       "                                            1977  \\\n",
       "index      cbe756ce81f5c420a1f7079791ed9aa2js2u7   \n",
       "bidder_id                                      1   \n",
       "\n",
       "                                            1978  \\\n",
       "index      a0420d3961adf890fccf4b43899708f6h40zs   \n",
       "bidder_id                                      1   \n",
       "\n",
       "                                            1979  \\\n",
       "index      21580623ea81c5b0b82aaf74890218e5mio2z   \n",
       "bidder_id                                      1   \n",
       "\n",
       "                                            1980  \\\n",
       "index      8d638f6da12614d6b369249410c3d278n8qme   \n",
       "bidder_id                                      1   \n",
       "\n",
       "                                            1981  \\\n",
       "index      177b031b4a77f28ff167b427ca967b52jetgo   \n",
       "bidder_id                                      1   \n",
       "\n",
       "                                            1982  \\\n",
       "index      44c38c27b9de757c8c7c05cf07b7e3eb14qpt   \n",
       "bidder_id                                      1   \n",
       "\n",
       "                                            1983  \n",
       "index      0381a69b7a061e9ace2798fd48f1f537mgq57  \n",
       "bidder_id                                      1  \n",
       "\n",
       "[2 rows x 1984 columns]"
      ]
     },
     "execution_count": 8,
     "metadata": {},
     "output_type": "execute_result"
    }
   ],
   "source": [
    "print(d['bidder_id'].nunique())\n",
    "print(d['bidder_id'].nunique()/len(d['bidder_id']))\n",
    "d['bidder_id'].value_counts().sort_values(ascending=False).reset_index().T"
   ]
  },
  {
   "cell_type": "markdown",
   "metadata": {},
   "source": [
    "## 2.3 auction"
   ]
  },
  {
   "cell_type": "code",
   "execution_count": 9,
   "metadata": {},
   "outputs": [
    {
     "name": "stdout",
     "output_type": "stream",
     "text": [
      "12740\n",
      "0.004148183265043514\n"
     ]
    },
    {
     "data": {
      "text/html": [
       "<div>\n",
       "<style scoped>\n",
       "    .dataframe tbody tr th:only-of-type {\n",
       "        vertical-align: middle;\n",
       "    }\n",
       "\n",
       "    .dataframe tbody tr th {\n",
       "        vertical-align: top;\n",
       "    }\n",
       "\n",
       "    .dataframe thead th {\n",
       "        text-align: right;\n",
       "    }\n",
       "</style>\n",
       "<table border=\"1\" class=\"dataframe\">\n",
       "  <thead>\n",
       "    <tr style=\"text-align: right;\">\n",
       "      <th></th>\n",
       "      <th>0</th>\n",
       "      <th>1</th>\n",
       "      <th>2</th>\n",
       "      <th>3</th>\n",
       "      <th>4</th>\n",
       "      <th>5</th>\n",
       "      <th>6</th>\n",
       "      <th>7</th>\n",
       "      <th>8</th>\n",
       "      <th>9</th>\n",
       "      <th>...</th>\n",
       "      <th>12730</th>\n",
       "      <th>12731</th>\n",
       "      <th>12732</th>\n",
       "      <th>12733</th>\n",
       "      <th>12734</th>\n",
       "      <th>12735</th>\n",
       "      <th>12736</th>\n",
       "      <th>12737</th>\n",
       "      <th>12738</th>\n",
       "      <th>12739</th>\n",
       "    </tr>\n",
       "  </thead>\n",
       "  <tbody>\n",
       "    <tr>\n",
       "      <th>index</th>\n",
       "      <td>jqx39</td>\n",
       "      <td>jefix</td>\n",
       "      <td>opnq4</td>\n",
       "      <td>r9bkk</td>\n",
       "      <td>uvnl7</td>\n",
       "      <td>no958</td>\n",
       "      <td>ngxwj</td>\n",
       "      <td>hy5xd</td>\n",
       "      <td>ihm9a</td>\n",
       "      <td>pyqrm</td>\n",
       "      <td>...</td>\n",
       "      <td>q4r0j</td>\n",
       "      <td>5x25p</td>\n",
       "      <td>7voue</td>\n",
       "      <td>uebgv</td>\n",
       "      <td>6ggt8</td>\n",
       "      <td>7rk8v</td>\n",
       "      <td>sx2qa</td>\n",
       "      <td>h8enj</td>\n",
       "      <td>8igxu</td>\n",
       "      <td>pxftx</td>\n",
       "    </tr>\n",
       "    <tr>\n",
       "      <th>auction</th>\n",
       "      <td>217913</td>\n",
       "      <td>41473</td>\n",
       "      <td>35183</td>\n",
       "      <td>35009</td>\n",
       "      <td>26561</td>\n",
       "      <td>24960</td>\n",
       "      <td>22939</td>\n",
       "      <td>22013</td>\n",
       "      <td>20974</td>\n",
       "      <td>19804</td>\n",
       "      <td>...</td>\n",
       "      <td>1</td>\n",
       "      <td>1</td>\n",
       "      <td>1</td>\n",
       "      <td>1</td>\n",
       "      <td>1</td>\n",
       "      <td>1</td>\n",
       "      <td>1</td>\n",
       "      <td>1</td>\n",
       "      <td>1</td>\n",
       "      <td>1</td>\n",
       "    </tr>\n",
       "  </tbody>\n",
       "</table>\n",
       "<p>2 rows × 12740 columns</p>\n",
       "</div>"
      ],
      "text/plain": [
       "          0      1      2      3      4      5      6      7      8      \\\n",
       "index     jqx39  jefix  opnq4  r9bkk  uvnl7  no958  ngxwj  hy5xd  ihm9a   \n",
       "auction  217913  41473  35183  35009  26561  24960  22939  22013  20974   \n",
       "\n",
       "         9      ...  12730  12731  12732  12733  12734  12735  12736  12737  \\\n",
       "index    pyqrm  ...  q4r0j  5x25p  7voue  uebgv  6ggt8  7rk8v  sx2qa  h8enj   \n",
       "auction  19804  ...      1      1      1      1      1      1      1      1   \n",
       "\n",
       "         12738  12739  \n",
       "index    8igxu  pxftx  \n",
       "auction      1      1  \n",
       "\n",
       "[2 rows x 12740 columns]"
      ]
     },
     "execution_count": 9,
     "metadata": {},
     "output_type": "execute_result"
    }
   ],
   "source": [
    "print(d['auction'].nunique())\n",
    "print(d['auction'].nunique()/len(d['auction']))\n",
    "d['auction'].value_counts().sort_values(ascending=False).reset_index().T"
   ]
  },
  {
   "cell_type": "markdown",
   "metadata": {},
   "source": [
    "## 2.4 merchandise"
   ]
  },
  {
   "cell_type": "code",
   "execution_count": 10,
   "metadata": {},
   "outputs": [
    {
     "name": "stdout",
     "output_type": "stream",
     "text": [
      "10\n"
     ]
    },
    {
     "data": {
      "text/html": [
       "<div>\n",
       "<style scoped>\n",
       "    .dataframe tbody tr th:only-of-type {\n",
       "        vertical-align: middle;\n",
       "    }\n",
       "\n",
       "    .dataframe tbody tr th {\n",
       "        vertical-align: top;\n",
       "    }\n",
       "\n",
       "    .dataframe thead th {\n",
       "        text-align: right;\n",
       "    }\n",
       "</style>\n",
       "<table border=\"1\" class=\"dataframe\">\n",
       "  <thead>\n",
       "    <tr style=\"text-align: right;\">\n",
       "      <th></th>\n",
       "      <th>0</th>\n",
       "      <th>1</th>\n",
       "      <th>2</th>\n",
       "      <th>3</th>\n",
       "      <th>4</th>\n",
       "      <th>5</th>\n",
       "      <th>6</th>\n",
       "      <th>7</th>\n",
       "      <th>8</th>\n",
       "      <th>9</th>\n",
       "    </tr>\n",
       "  </thead>\n",
       "  <tbody>\n",
       "    <tr>\n",
       "      <th>index</th>\n",
       "      <td>sporting goods</td>\n",
       "      <td>mobile</td>\n",
       "      <td>jewelry</td>\n",
       "      <td>home goods</td>\n",
       "      <td>office equipment</td>\n",
       "      <td>furniture</td>\n",
       "      <td>computers</td>\n",
       "      <td>books and music</td>\n",
       "      <td>auto parts</td>\n",
       "      <td>clothing</td>\n",
       "    </tr>\n",
       "    <tr>\n",
       "      <th>merchandise</th>\n",
       "      <td>1169724</td>\n",
       "      <td>597488</td>\n",
       "      <td>592735</td>\n",
       "      <td>407957</td>\n",
       "      <td>168638</td>\n",
       "      <td>87807</td>\n",
       "      <td>21400</td>\n",
       "      <td>15242</td>\n",
       "      <td>9757</td>\n",
       "      <td>476</td>\n",
       "    </tr>\n",
       "  </tbody>\n",
       "</table>\n",
       "</div>"
      ],
      "text/plain": [
       "                          0       1        2           3                 4  \\\n",
       "index        sporting goods  mobile  jewelry  home goods  office equipment   \n",
       "merchandise         1169724  597488   592735      407957            168638   \n",
       "\n",
       "                     5          6                7           8         9  \n",
       "index        furniture  computers  books and music  auto parts  clothing  \n",
       "merchandise      87807      21400            15242        9757       476  "
      ]
     },
     "execution_count": 10,
     "metadata": {},
     "output_type": "execute_result"
    }
   ],
   "source": [
    "print(d['merchandise'].nunique())\n",
    "d['merchandise'].value_counts().sort_values(ascending=False).reset_index().T"
   ]
  },
  {
   "cell_type": "markdown",
   "metadata": {},
   "source": [
    "## 2.5 device"
   ]
  },
  {
   "cell_type": "code",
   "execution_count": 11,
   "metadata": {},
   "outputs": [
    {
     "name": "stdout",
     "output_type": "stream",
     "text": [
      "5729\n"
     ]
    },
    {
     "data": {
      "text/html": [
       "<div>\n",
       "<style scoped>\n",
       "    .dataframe tbody tr th:only-of-type {\n",
       "        vertical-align: middle;\n",
       "    }\n",
       "\n",
       "    .dataframe tbody tr th {\n",
       "        vertical-align: top;\n",
       "    }\n",
       "\n",
       "    .dataframe thead th {\n",
       "        text-align: right;\n",
       "    }\n",
       "</style>\n",
       "<table border=\"1\" class=\"dataframe\">\n",
       "  <thead>\n",
       "    <tr style=\"text-align: right;\">\n",
       "      <th></th>\n",
       "      <th>0</th>\n",
       "      <th>1</th>\n",
       "      <th>2</th>\n",
       "      <th>3</th>\n",
       "      <th>4</th>\n",
       "      <th>5</th>\n",
       "      <th>6</th>\n",
       "      <th>7</th>\n",
       "      <th>8</th>\n",
       "      <th>9</th>\n",
       "      <th>...</th>\n",
       "      <th>5719</th>\n",
       "      <th>5720</th>\n",
       "      <th>5721</th>\n",
       "      <th>5722</th>\n",
       "      <th>5723</th>\n",
       "      <th>5724</th>\n",
       "      <th>5725</th>\n",
       "      <th>5726</th>\n",
       "      <th>5727</th>\n",
       "      <th>5728</th>\n",
       "    </tr>\n",
       "  </thead>\n",
       "  <tbody>\n",
       "    <tr>\n",
       "      <th>index</th>\n",
       "      <td>phone4</td>\n",
       "      <td>phone35</td>\n",
       "      <td>phone101</td>\n",
       "      <td>phone2</td>\n",
       "      <td>phone45</td>\n",
       "      <td>phone65</td>\n",
       "      <td>phone25</td>\n",
       "      <td>phone3</td>\n",
       "      <td>phone17</td>\n",
       "      <td>phone22</td>\n",
       "      <td>...</td>\n",
       "      <td>phone3651</td>\n",
       "      <td>phone5027</td>\n",
       "      <td>phone5019</td>\n",
       "      <td>phone6047</td>\n",
       "      <td>phone3609</td>\n",
       "      <td>phone4468</td>\n",
       "      <td>phone4082</td>\n",
       "      <td>phone5645</td>\n",
       "      <td>phone6920</td>\n",
       "      <td>phone5662</td>\n",
       "    </tr>\n",
       "    <tr>\n",
       "      <th>device</th>\n",
       "      <td>306998</td>\n",
       "      <td>75542</td>\n",
       "      <td>69757</td>\n",
       "      <td>67208</td>\n",
       "      <td>64172</td>\n",
       "      <td>60694</td>\n",
       "      <td>53390</td>\n",
       "      <td>50151</td>\n",
       "      <td>43036</td>\n",
       "      <td>37187</td>\n",
       "      <td>...</td>\n",
       "      <td>1</td>\n",
       "      <td>1</td>\n",
       "      <td>1</td>\n",
       "      <td>1</td>\n",
       "      <td>1</td>\n",
       "      <td>1</td>\n",
       "      <td>1</td>\n",
       "      <td>1</td>\n",
       "      <td>1</td>\n",
       "      <td>1</td>\n",
       "    </tr>\n",
       "  </tbody>\n",
       "</table>\n",
       "<p>2 rows × 5729 columns</p>\n",
       "</div>"
      ],
      "text/plain": [
       "          0        1         2       3        4        5        6       7     \\\n",
       "index   phone4  phone35  phone101  phone2  phone45  phone65  phone25  phone3   \n",
       "device  306998    75542     69757   67208    64172    60694    53390   50151   \n",
       "\n",
       "           8        9     ...       5719       5720       5721       5722  \\\n",
       "index   phone17  phone22  ...  phone3651  phone5027  phone5019  phone6047   \n",
       "device    43036    37187  ...          1          1          1          1   \n",
       "\n",
       "             5723       5724       5725       5726       5727       5728  \n",
       "index   phone3609  phone4468  phone4082  phone5645  phone6920  phone5662  \n",
       "device          1          1          1          1          1          1  \n",
       "\n",
       "[2 rows x 5729 columns]"
      ]
     },
     "execution_count": 11,
     "metadata": {},
     "output_type": "execute_result"
    }
   ],
   "source": [
    "print(d['device'].nunique())\n",
    "d['device'].value_counts().sort_values(ascending=False).reset_index().T"
   ]
  },
  {
   "cell_type": "markdown",
   "metadata": {},
   "source": [
    "## 2.6 time"
   ]
  },
  {
   "cell_type": "code",
   "execution_count": 12,
   "metadata": {},
   "outputs": [
    {
     "data": {
      "image/png": "[encoded data removed]",
      "text/plain": [
       "<Figure size 432x288 with 1 Axes>"
      ]
     },
     "metadata": {
      "needs_background": "light"
     },
     "output_type": "display_data"
    }
   ],
   "source": [
    "#d['time'].describe()\n",
    "\n",
    "sns.distplot(d['time'],\n",
    "            hist=True,\n",
    "            kde=True)\n",
    "plt.show()"
   ]
  },
  {
   "cell_type": "code",
   "execution_count": 54,
   "metadata": {},
   "outputs": [
    {
     "ename": "ValueError",
     "evalue": "Invalid RGBA argument: 0.0",
     "output_type": "error",
     "traceback": [
      "\u001b[0;31m---------------------------------------------------------------------------\u001b[0m",
      "\u001b[0;31mKeyError\u001b[0m                                  Traceback (most recent call last)",
      "\u001b[0;32m~/anaconda3/lib/python3.7/site-packages/matplotlib/colors.py\u001b[0m in \u001b[0;36mto_rgba\u001b[0;34m(c, alpha)\u001b[0m\n\u001b[1;32m    173\u001b[0m     \u001b[0;32mtry\u001b[0m\u001b[0;34m:\u001b[0m\u001b[0;34m\u001b[0m\u001b[0;34m\u001b[0m\u001b[0m\n\u001b[0;32m--> 174\u001b[0;31m         \u001b[0mrgba\u001b[0m \u001b[0;34m=\u001b[0m \u001b[0m_colors_full_map\u001b[0m\u001b[0;34m.\u001b[0m\u001b[0mcache\u001b[0m\u001b[0;34m[\u001b[0m\u001b[0mc\u001b[0m\u001b[0;34m,\u001b[0m \u001b[0malpha\u001b[0m\u001b[0;34m]\u001b[0m\u001b[0;34m\u001b[0m\u001b[0;34m\u001b[0m\u001b[0m\n\u001b[0m\u001b[1;32m    175\u001b[0m     \u001b[0;32mexcept\u001b[0m \u001b[0;34m(\u001b[0m\u001b[0mKeyError\u001b[0m\u001b[0;34m,\u001b[0m \u001b[0mTypeError\u001b[0m\u001b[0;34m)\u001b[0m\u001b[0;34m:\u001b[0m  \u001b[0;31m# Not in cache, or unhashable.\u001b[0m\u001b[0;34m\u001b[0m\u001b[0;34m\u001b[0m\u001b[0m\n",
      "\u001b[0;31mKeyError\u001b[0m: (0.0, None)",
      "\nDuring handling of the above exception, another exception occurred:\n",
      "\u001b[0;31mValueError\u001b[0m                                Traceback (most recent call last)",
      "\u001b[0;32m<ipython-input-54-d9ac6316b3e2>\u001b[0m in \u001b[0;36m<module>\u001b[0;34m\u001b[0m\n\u001b[1;32m      3\u001b[0m             \u001b[0mhist\u001b[0m\u001b[0;34m=\u001b[0m\u001b[0;32mTrue\u001b[0m\u001b[0;34m,\u001b[0m\u001b[0;34m\u001b[0m\u001b[0;34m\u001b[0m\u001b[0m\n\u001b[1;32m      4\u001b[0m             \u001b[0mkde\u001b[0m\u001b[0;34m=\u001b[0m\u001b[0;32mTrue\u001b[0m\u001b[0;34m,\u001b[0m\u001b[0;34m\u001b[0m\u001b[0;34m\u001b[0m\u001b[0m\n\u001b[0;32m----> 5\u001b[0;31m             color=d['outcome'].astype('object'))\n\u001b[0m\u001b[1;32m      6\u001b[0m \u001b[0mplt\u001b[0m\u001b[0;34m.\u001b[0m\u001b[0mshow\u001b[0m\u001b[0;34m(\u001b[0m\u001b[0;34m)\u001b[0m\u001b[0;34m\u001b[0m\u001b[0;34m\u001b[0m\u001b[0m\n",
      "\u001b[0;32m~/anaconda3/lib/python3.7/site-packages/seaborn/distributions.py\u001b[0m in \u001b[0;36mdistplot\u001b[0;34m(a, bins, hist, kde, rug, fit, hist_kws, kde_kws, rug_kws, fit_kws, color, vertical, norm_hist, axlabel, label, ax)\u001b[0m\n\u001b[1;32m    223\u001b[0m         \u001b[0mhist_color\u001b[0m \u001b[0;34m=\u001b[0m \u001b[0mhist_kws\u001b[0m\u001b[0;34m.\u001b[0m\u001b[0mpop\u001b[0m\u001b[0;34m(\u001b[0m\u001b[0;34m\"color\"\u001b[0m\u001b[0;34m,\u001b[0m \u001b[0mcolor\u001b[0m\u001b[0;34m)\u001b[0m\u001b[0;34m\u001b[0m\u001b[0;34m\u001b[0m\u001b[0m\n\u001b[1;32m    224\u001b[0m         ax.hist(a, bins, orientation=orientation,\n\u001b[0;32m--> 225\u001b[0;31m                 color=hist_color, **hist_kws)\n\u001b[0m\u001b[1;32m    226\u001b[0m         \u001b[0;32mif\u001b[0m \u001b[0mhist_color\u001b[0m \u001b[0;34m!=\u001b[0m \u001b[0mcolor\u001b[0m\u001b[0;34m:\u001b[0m\u001b[0;34m\u001b[0m\u001b[0;34m\u001b[0m\u001b[0m\n\u001b[1;32m    227\u001b[0m             \u001b[0mhist_kws\u001b[0m\u001b[0;34m[\u001b[0m\u001b[0;34m\"color\"\u001b[0m\u001b[0;34m]\u001b[0m \u001b[0;34m=\u001b[0m \u001b[0mhist_color\u001b[0m\u001b[0;34m\u001b[0m\u001b[0;34m\u001b[0m\u001b[0m\n",
      "\u001b[0;32m~/anaconda3/lib/python3.7/site-packages/matplotlib/__init__.py\u001b[0m in \u001b[0;36minner\u001b[0;34m(ax, data, *args, **kwargs)\u001b[0m\n\u001b[1;32m   1808\u001b[0m                         \u001b[0;34m\"the Matplotlib list!)\"\u001b[0m \u001b[0;34m%\u001b[0m \u001b[0;34m(\u001b[0m\u001b[0mlabel_namer\u001b[0m\u001b[0;34m,\u001b[0m \u001b[0mfunc\u001b[0m\u001b[0;34m.\u001b[0m\u001b[0m__name__\u001b[0m\u001b[0;34m)\u001b[0m\u001b[0;34m,\u001b[0m\u001b[0;34m\u001b[0m\u001b[0;34m\u001b[0m\u001b[0m\n\u001b[1;32m   1809\u001b[0m                         RuntimeWarning, stacklevel=2)\n\u001b[0;32m-> 1810\u001b[0;31m             \u001b[0;32mreturn\u001b[0m \u001b[0mfunc\u001b[0m\u001b[0;34m(\u001b[0m\u001b[0max\u001b[0m\u001b[0;34m,\u001b[0m \u001b[0;34m*\u001b[0m\u001b[0margs\u001b[0m\u001b[0;34m,\u001b[0m \u001b[0;34m**\u001b[0m\u001b[0mkwargs\u001b[0m\u001b[0;34m)\u001b[0m\u001b[0;34m\u001b[0m\u001b[0;34m\u001b[0m\u001b[0m\n\u001b[0m\u001b[1;32m   1811\u001b[0m \u001b[0;34m\u001b[0m\u001b[0m\n\u001b[1;32m   1812\u001b[0m         inner.__doc__ = _add_data_doc(inner.__doc__,\n",
      "\u001b[0;32m~/anaconda3/lib/python3.7/site-packages/matplotlib/axes/_axes.py\u001b[0m in \u001b[0;36mhist\u001b[0;34m(self, x, bins, range, density, weights, cumulative, bottom, histtype, align, orientation, rwidth, log, color, label, stacked, normed, **kwargs)\u001b[0m\n\u001b[1;32m   6558\u001b[0m             \u001b[0mcolor\u001b[0m \u001b[0;34m=\u001b[0m \u001b[0;34m[\u001b[0m\u001b[0mself\u001b[0m\u001b[0;34m.\u001b[0m\u001b[0m_get_lines\u001b[0m\u001b[0;34m.\u001b[0m\u001b[0mget_next_color\u001b[0m\u001b[0;34m(\u001b[0m\u001b[0;34m)\u001b[0m \u001b[0;32mfor\u001b[0m \u001b[0mi\u001b[0m \u001b[0;32min\u001b[0m \u001b[0mrange\u001b[0m\u001b[0;34m(\u001b[0m\u001b[0mnx\u001b[0m\u001b[0;34m)\u001b[0m\u001b[0;34m]\u001b[0m\u001b[0;34m\u001b[0m\u001b[0;34m\u001b[0m\u001b[0m\n\u001b[1;32m   6559\u001b[0m         \u001b[0;32melse\u001b[0m\u001b[0;34m:\u001b[0m\u001b[0;34m\u001b[0m\u001b[0;34m\u001b[0m\u001b[0m\n\u001b[0;32m-> 6560\u001b[0;31m             \u001b[0mcolor\u001b[0m \u001b[0;34m=\u001b[0m \u001b[0mmcolors\u001b[0m\u001b[0;34m.\u001b[0m\u001b[0mto_rgba_array\u001b[0m\u001b[0;34m(\u001b[0m\u001b[0mcolor\u001b[0m\u001b[0;34m)\u001b[0m\u001b[0;34m\u001b[0m\u001b[0;34m\u001b[0m\u001b[0m\n\u001b[0m\u001b[1;32m   6561\u001b[0m             \u001b[0;32mif\u001b[0m \u001b[0mlen\u001b[0m\u001b[0;34m(\u001b[0m\u001b[0mcolor\u001b[0m\u001b[0;34m)\u001b[0m \u001b[0;34m!=\u001b[0m \u001b[0mnx\u001b[0m\u001b[0;34m:\u001b[0m\u001b[0;34m\u001b[0m\u001b[0;34m\u001b[0m\u001b[0m\n\u001b[1;32m   6562\u001b[0m                 error_message = (\n",
      "\u001b[0;32m~/anaconda3/lib/python3.7/site-packages/matplotlib/colors.py\u001b[0m in \u001b[0;36mto_rgba_array\u001b[0;34m(c, alpha)\u001b[0m\n\u001b[1;32m    273\u001b[0m     \u001b[0mresult\u001b[0m \u001b[0;34m=\u001b[0m \u001b[0mnp\u001b[0m\u001b[0;34m.\u001b[0m\u001b[0mempty\u001b[0m\u001b[0;34m(\u001b[0m\u001b[0;34m(\u001b[0m\u001b[0mlen\u001b[0m\u001b[0;34m(\u001b[0m\u001b[0mc\u001b[0m\u001b[0;34m)\u001b[0m\u001b[0;34m,\u001b[0m \u001b[0;36m4\u001b[0m\u001b[0;34m)\u001b[0m\u001b[0;34m,\u001b[0m \u001b[0mfloat\u001b[0m\u001b[0;34m)\u001b[0m\u001b[0;34m\u001b[0m\u001b[0;34m\u001b[0m\u001b[0m\n\u001b[1;32m    274\u001b[0m     \u001b[0;32mfor\u001b[0m \u001b[0mi\u001b[0m\u001b[0;34m,\u001b[0m \u001b[0mcc\u001b[0m \u001b[0;32min\u001b[0m \u001b[0menumerate\u001b[0m\u001b[0;34m(\u001b[0m\u001b[0mc\u001b[0m\u001b[0;34m)\u001b[0m\u001b[0;34m:\u001b[0m\u001b[0;34m\u001b[0m\u001b[0;34m\u001b[0m\u001b[0m\n\u001b[0;32m--> 275\u001b[0;31m         \u001b[0mresult\u001b[0m\u001b[0;34m[\u001b[0m\u001b[0mi\u001b[0m\u001b[0;34m]\u001b[0m \u001b[0;34m=\u001b[0m \u001b[0mto_rgba\u001b[0m\u001b[0;34m(\u001b[0m\u001b[0mcc\u001b[0m\u001b[0;34m,\u001b[0m \u001b[0malpha\u001b[0m\u001b[0;34m)\u001b[0m\u001b[0;34m\u001b[0m\u001b[0;34m\u001b[0m\u001b[0m\n\u001b[0m\u001b[1;32m    276\u001b[0m     \u001b[0;32mreturn\u001b[0m \u001b[0mresult\u001b[0m\u001b[0;34m\u001b[0m\u001b[0;34m\u001b[0m\u001b[0m\n\u001b[1;32m    277\u001b[0m \u001b[0;34m\u001b[0m\u001b[0m\n",
      "\u001b[0;32m~/anaconda3/lib/python3.7/site-packages/matplotlib/colors.py\u001b[0m in \u001b[0;36mto_rgba\u001b[0;34m(c, alpha)\u001b[0m\n\u001b[1;32m    174\u001b[0m         \u001b[0mrgba\u001b[0m \u001b[0;34m=\u001b[0m \u001b[0m_colors_full_map\u001b[0m\u001b[0;34m.\u001b[0m\u001b[0mcache\u001b[0m\u001b[0;34m[\u001b[0m\u001b[0mc\u001b[0m\u001b[0;34m,\u001b[0m \u001b[0malpha\u001b[0m\u001b[0;34m]\u001b[0m\u001b[0;34m\u001b[0m\u001b[0;34m\u001b[0m\u001b[0m\n\u001b[1;32m    175\u001b[0m     \u001b[0;32mexcept\u001b[0m \u001b[0;34m(\u001b[0m\u001b[0mKeyError\u001b[0m\u001b[0;34m,\u001b[0m \u001b[0mTypeError\u001b[0m\u001b[0;34m)\u001b[0m\u001b[0;34m:\u001b[0m  \u001b[0;31m# Not in cache, or unhashable.\u001b[0m\u001b[0;34m\u001b[0m\u001b[0;34m\u001b[0m\u001b[0m\n\u001b[0;32m--> 176\u001b[0;31m         \u001b[0mrgba\u001b[0m \u001b[0;34m=\u001b[0m \u001b[0m_to_rgba_no_colorcycle\u001b[0m\u001b[0;34m(\u001b[0m\u001b[0mc\u001b[0m\u001b[0;34m,\u001b[0m \u001b[0malpha\u001b[0m\u001b[0;34m)\u001b[0m\u001b[0;34m\u001b[0m\u001b[0;34m\u001b[0m\u001b[0m\n\u001b[0m\u001b[1;32m    177\u001b[0m         \u001b[0;32mtry\u001b[0m\u001b[0;34m:\u001b[0m\u001b[0;34m\u001b[0m\u001b[0;34m\u001b[0m\u001b[0m\n\u001b[1;32m    178\u001b[0m             \u001b[0m_colors_full_map\u001b[0m\u001b[0;34m.\u001b[0m\u001b[0mcache\u001b[0m\u001b[0;34m[\u001b[0m\u001b[0mc\u001b[0m\u001b[0;34m,\u001b[0m \u001b[0malpha\u001b[0m\u001b[0;34m]\u001b[0m \u001b[0;34m=\u001b[0m \u001b[0mrgba\u001b[0m\u001b[0;34m\u001b[0m\u001b[0;34m\u001b[0m\u001b[0m\n",
      "\u001b[0;32m~/anaconda3/lib/python3.7/site-packages/matplotlib/colors.py\u001b[0m in \u001b[0;36m_to_rgba_no_colorcycle\u001b[0;34m(c, alpha)\u001b[0m\n\u001b[1;32m    225\u001b[0m         \u001b[0;31m# float)` and `np.array(...).astype(float)` all convert \"0.5\" to 0.5.\u001b[0m\u001b[0;34m\u001b[0m\u001b[0;34m\u001b[0m\u001b[0;34m\u001b[0m\u001b[0m\n\u001b[1;32m    226\u001b[0m         \u001b[0;31m# Test dimensionality to reject single floats.\u001b[0m\u001b[0;34m\u001b[0m\u001b[0;34m\u001b[0m\u001b[0;34m\u001b[0m\u001b[0m\n\u001b[0;32m--> 227\u001b[0;31m         \u001b[0;32mraise\u001b[0m \u001b[0mValueError\u001b[0m\u001b[0;34m(\u001b[0m\u001b[0;34m\"Invalid RGBA argument: {!r}\"\u001b[0m\u001b[0;34m.\u001b[0m\u001b[0mformat\u001b[0m\u001b[0;34m(\u001b[0m\u001b[0morig_c\u001b[0m\u001b[0;34m)\u001b[0m\u001b[0;34m)\u001b[0m\u001b[0;34m\u001b[0m\u001b[0;34m\u001b[0m\u001b[0m\n\u001b[0m\u001b[1;32m    228\u001b[0m     \u001b[0;31m# Return a tuple to prevent the cached value from being modified.\u001b[0m\u001b[0;34m\u001b[0m\u001b[0;34m\u001b[0m\u001b[0;34m\u001b[0m\u001b[0m\n\u001b[1;32m    229\u001b[0m     \u001b[0mc\u001b[0m \u001b[0;34m=\u001b[0m \u001b[0mtuple\u001b[0m\u001b[0;34m(\u001b[0m\u001b[0mc\u001b[0m\u001b[0;34m.\u001b[0m\u001b[0mastype\u001b[0m\u001b[0;34m(\u001b[0m\u001b[0mfloat\u001b[0m\u001b[0;34m)\u001b[0m\u001b[0;34m)\u001b[0m\u001b[0;34m\u001b[0m\u001b[0;34m\u001b[0m\u001b[0m\n",
      "\u001b[0;31mValueError\u001b[0m: Invalid RGBA argument: 0.0"
     ]
    },
    {
     "data": {
      "image/png": "[encoded data removed]",
      "text/plain": [
       "<Figure size 432x288 with 1 Axes>"
      ]
     },
     "metadata": {
      "needs_background": "light"
     },
     "output_type": "display_data"
    }
   ],
   "source": [
    "\n",
    "sns.distplot(d['time'],\n",
    "            hist=True,\n",
    "            kde=True,\n",
    "            color=d['outcome'].astype('object'))\n",
    "plt.show()"
   ]
  },
  {
   "cell_type": "markdown",
   "metadata": {},
   "source": [
    "## 2.7 country"
   ]
  },
  {
   "cell_type": "code",
   "execution_count": 13,
   "metadata": {},
   "outputs": [
    {
     "name": "stdout",
     "output_type": "stream",
     "text": [
      "198\n",
      "Missing:  0.0008794539245590683\n"
     ]
    },
    {
     "data": {
      "text/html": [
       "<div>\n",
       "<style scoped>\n",
       "    .dataframe tbody tr th:only-of-type {\n",
       "        vertical-align: middle;\n",
       "    }\n",
       "\n",
       "    .dataframe tbody tr th {\n",
       "        vertical-align: top;\n",
       "    }\n",
       "\n",
       "    .dataframe thead th {\n",
       "        text-align: right;\n",
       "    }\n",
       "</style>\n",
       "<table border=\"1\" class=\"dataframe\">\n",
       "  <thead>\n",
       "    <tr style=\"text-align: right;\">\n",
       "      <th></th>\n",
       "      <th>0</th>\n",
       "      <th>1</th>\n",
       "      <th>2</th>\n",
       "      <th>3</th>\n",
       "      <th>4</th>\n",
       "      <th>5</th>\n",
       "      <th>6</th>\n",
       "      <th>7</th>\n",
       "      <th>8</th>\n",
       "      <th>9</th>\n",
       "      <th>...</th>\n",
       "      <th>188</th>\n",
       "      <th>189</th>\n",
       "      <th>190</th>\n",
       "      <th>191</th>\n",
       "      <th>192</th>\n",
       "      <th>193</th>\n",
       "      <th>194</th>\n",
       "      <th>195</th>\n",
       "      <th>196</th>\n",
       "      <th>197</th>\n",
       "    </tr>\n",
       "  </thead>\n",
       "  <tbody>\n",
       "    <tr>\n",
       "      <th>index</th>\n",
       "      <td>in</td>\n",
       "      <td>ng</td>\n",
       "      <td>id</td>\n",
       "      <td>za</td>\n",
       "      <td>ke</td>\n",
       "      <td>us</td>\n",
       "      <td>gh</td>\n",
       "      <td>vn</td>\n",
       "      <td>my</td>\n",
       "      <td>tr</td>\n",
       "      <td>...</td>\n",
       "      <td>ws</td>\n",
       "      <td>gb</td>\n",
       "      <td>zz</td>\n",
       "      <td>gp</td>\n",
       "      <td>tc</td>\n",
       "      <td>gn</td>\n",
       "      <td>gi</td>\n",
       "      <td>mh</td>\n",
       "      <td>er</td>\n",
       "      <td>an</td>\n",
       "    </tr>\n",
       "    <tr>\n",
       "      <th>country</th>\n",
       "      <td>645631</td>\n",
       "      <td>352263</td>\n",
       "      <td>174228</td>\n",
       "      <td>155338</td>\n",
       "      <td>151707</td>\n",
       "      <td>140043</td>\n",
       "      <td>118823</td>\n",
       "      <td>90996</td>\n",
       "      <td>87807</td>\n",
       "      <td>84896</td>\n",
       "      <td>...</td>\n",
       "      <td>5</td>\n",
       "      <td>4</td>\n",
       "      <td>4</td>\n",
       "      <td>2</td>\n",
       "      <td>1</td>\n",
       "      <td>1</td>\n",
       "      <td>1</td>\n",
       "      <td>1</td>\n",
       "      <td>1</td>\n",
       "      <td>1</td>\n",
       "    </tr>\n",
       "  </tbody>\n",
       "</table>\n",
       "<p>2 rows × 198 columns</p>\n",
       "</div>"
      ],
      "text/plain": [
       "            0       1       2       3       4       5       6      7      8    \\\n",
       "index        in      ng      id      za      ke      us      gh     vn     my   \n",
       "country  645631  352263  174228  155338  151707  140043  118823  90996  87807   \n",
       "\n",
       "           9    ... 188 189 190 191 192 193 194 195 196 197  \n",
       "index       tr  ...  ws  gb  zz  gp  tc  gn  gi  mh  er  an  \n",
       "country  84896  ...   5   4   4   2   1   1   1   1   1   1  \n",
       "\n",
       "[2 rows x 198 columns]"
      ]
     },
     "execution_count": 13,
     "metadata": {},
     "output_type": "execute_result"
    }
   ],
   "source": [
    "print(d['country'].nunique())\n",
    "print('Missing: ', d['country'].isna().sum()/len(d['country']))\n",
    "d['country'].value_counts().sort_values(ascending=False).reset_index().T"
   ]
  },
  {
   "cell_type": "markdown",
   "metadata": {},
   "source": [
    "## 2.8 ip"
   ]
  },
  {
   "cell_type": "code",
   "execution_count": 14,
   "metadata": {},
   "outputs": [
    {
     "name": "stdout",
     "output_type": "stream",
     "text": [
      "1030950\n",
      "0.33568049741731637\n"
     ]
    },
    {
     "data": {
      "text/html": [
       "<div>\n",
       "<style scoped>\n",
       "    .dataframe tbody tr th:only-of-type {\n",
       "        vertical-align: middle;\n",
       "    }\n",
       "\n",
       "    .dataframe tbody tr th {\n",
       "        vertical-align: top;\n",
       "    }\n",
       "\n",
       "    .dataframe thead th {\n",
       "        text-align: right;\n",
       "    }\n",
       "</style>\n",
       "<table border=\"1\" class=\"dataframe\">\n",
       "  <thead>\n",
       "    <tr style=\"text-align: right;\">\n",
       "      <th></th>\n",
       "      <th>0</th>\n",
       "      <th>1</th>\n",
       "      <th>2</th>\n",
       "      <th>3</th>\n",
       "      <th>4</th>\n",
       "      <th>5</th>\n",
       "      <th>6</th>\n",
       "      <th>7</th>\n",
       "      <th>8</th>\n",
       "      <th>9</th>\n",
       "      <th>...</th>\n",
       "      <th>90</th>\n",
       "      <th>91</th>\n",
       "      <th>92</th>\n",
       "      <th>93</th>\n",
       "      <th>94</th>\n",
       "      <th>95</th>\n",
       "      <th>96</th>\n",
       "      <th>97</th>\n",
       "      <th>98</th>\n",
       "      <th>99</th>\n",
       "    </tr>\n",
       "  </thead>\n",
       "  <tbody>\n",
       "    <tr>\n",
       "      <th>index</th>\n",
       "      <td>224.130.156.216</td>\n",
       "      <td>37.95.134.218</td>\n",
       "      <td>13.31.35.207</td>\n",
       "      <td>155.184.236.45</td>\n",
       "      <td>109.101.133.231</td>\n",
       "      <td>119.88.125.198</td>\n",
       "      <td>105.144.126.10</td>\n",
       "      <td>68.171.95.214</td>\n",
       "      <td>216.197.201.221</td>\n",
       "      <td>230.236.226.213</td>\n",
       "      <td>...</td>\n",
       "      <td>136.111.77.221</td>\n",
       "      <td>188.211.116.106</td>\n",
       "      <td>46.23.145.198</td>\n",
       "      <td>203.57.59.176</td>\n",
       "      <td>69.85.202.86</td>\n",
       "      <td>22.136.132.3</td>\n",
       "      <td>11.139.116.12</td>\n",
       "      <td>69.90.92.141</td>\n",
       "      <td>59.7.182.238</td>\n",
       "      <td>44.241.8.179</td>\n",
       "    </tr>\n",
       "    <tr>\n",
       "      <th>ip</th>\n",
       "      <td>37659</td>\n",
       "      <td>37466</td>\n",
       "      <td>32198</td>\n",
       "      <td>16982</td>\n",
       "      <td>16263</td>\n",
       "      <td>15753</td>\n",
       "      <td>14353</td>\n",
       "      <td>13158</td>\n",
       "      <td>9970</td>\n",
       "      <td>9960</td>\n",
       "      <td>...</td>\n",
       "      <td>2166</td>\n",
       "      <td>2136</td>\n",
       "      <td>2127</td>\n",
       "      <td>2105</td>\n",
       "      <td>2090</td>\n",
       "      <td>2059</td>\n",
       "      <td>2054</td>\n",
       "      <td>2053</td>\n",
       "      <td>1994</td>\n",
       "      <td>1969</td>\n",
       "    </tr>\n",
       "  </tbody>\n",
       "</table>\n",
       "<p>2 rows × 100 columns</p>\n",
       "</div>"
      ],
      "text/plain": [
       "                    0              1             2               3   \\\n",
       "index  224.130.156.216  37.95.134.218  13.31.35.207  155.184.236.45   \n",
       "ip               37659          37466         32198           16982   \n",
       "\n",
       "                    4               5               6              7   \\\n",
       "index  109.101.133.231  119.88.125.198  105.144.126.10  68.171.95.214   \n",
       "ip               16263           15753           14353          13158   \n",
       "\n",
       "                    8                9   ...              90               91  \\\n",
       "index  216.197.201.221  230.236.226.213  ...  136.111.77.221  188.211.116.106   \n",
       "ip                9970             9960  ...            2166             2136   \n",
       "\n",
       "                  92             93            94            95  \\\n",
       "index  46.23.145.198  203.57.59.176  69.85.202.86  22.136.132.3   \n",
       "ip              2127           2105          2090          2059   \n",
       "\n",
       "                  96            97            98            99  \n",
       "index  11.139.116.12  69.90.92.141  59.7.182.238  44.241.8.179  \n",
       "ip              2054          2053          1994          1969  \n",
       "\n",
       "[2 rows x 100 columns]"
      ]
     },
     "execution_count": 14,
     "metadata": {},
     "output_type": "execute_result"
    }
   ],
   "source": [
    "print(d['ip'].nunique())\n",
    "print(d['ip'].nunique()/len(d['ip']))\n",
    "d['ip'].value_counts().sort_values(ascending=False).reset_index()[0:100].T"
   ]
  },
  {
   "cell_type": "markdown",
   "metadata": {},
   "source": [
    "## 2.9 url"
   ]
  },
  {
   "cell_type": "code",
   "execution_count": 15,
   "metadata": {},
   "outputs": [
    {
     "name": "stdout",
     "output_type": "stream",
     "text": [
      "663873\n",
      "0.21615909487552845\n"
     ]
    },
    {
     "data": {
      "text/html": [
       "<div>\n",
       "<style scoped>\n",
       "    .dataframe tbody tr th:only-of-type {\n",
       "        vertical-align: middle;\n",
       "    }\n",
       "\n",
       "    .dataframe tbody tr th {\n",
       "        vertical-align: top;\n",
       "    }\n",
       "\n",
       "    .dataframe thead th {\n",
       "        text-align: right;\n",
       "    }\n",
       "</style>\n",
       "<table border=\"1\" class=\"dataframe\">\n",
       "  <thead>\n",
       "    <tr style=\"text-align: right;\">\n",
       "      <th></th>\n",
       "      <th>0</th>\n",
       "      <th>1</th>\n",
       "      <th>2</th>\n",
       "      <th>3</th>\n",
       "      <th>4</th>\n",
       "      <th>5</th>\n",
       "      <th>6</th>\n",
       "      <th>7</th>\n",
       "      <th>8</th>\n",
       "      <th>9</th>\n",
       "      <th>...</th>\n",
       "      <th>90</th>\n",
       "      <th>91</th>\n",
       "      <th>92</th>\n",
       "      <th>93</th>\n",
       "      <th>94</th>\n",
       "      <th>95</th>\n",
       "      <th>96</th>\n",
       "      <th>97</th>\n",
       "      <th>98</th>\n",
       "      <th>99</th>\n",
       "    </tr>\n",
       "  </thead>\n",
       "  <tbody>\n",
       "    <tr>\n",
       "      <th>index</th>\n",
       "      <td>vasstdc27m7nks3</td>\n",
       "      <td>7zyltxp0hh36vpp</td>\n",
       "      <td>q0skvht51258k93</td>\n",
       "      <td>96ky12gxeqflpwz</td>\n",
       "      <td>gavdutxwg0vi1gn</td>\n",
       "      <td>oqknoadbcbcm6so</td>\n",
       "      <td>fezw942t15um898</td>\n",
       "      <td>1bltvi87id7pau1</td>\n",
       "      <td>9tkl0aevixr0p4f</td>\n",
       "      <td>vfq2ojps7euhv04</td>\n",
       "      <td>...</td>\n",
       "      <td>6ofqlkh9s8cyaxl</td>\n",
       "      <td>n0qud3sg3wwgjch</td>\n",
       "      <td>co51dtt0pyag991</td>\n",
       "      <td>walsruxfnnlvfve</td>\n",
       "      <td>8golk6oetcgd6wm</td>\n",
       "      <td>mz2rw4my6viapc9</td>\n",
       "      <td>7mtbxfv50lwxgz5</td>\n",
       "      <td>h995xxvs8pizdxk</td>\n",
       "      <td>j0hirofmqr1uadz</td>\n",
       "      <td>sf4md62w035ql3h</td>\n",
       "    </tr>\n",
       "    <tr>\n",
       "      <th>url</th>\n",
       "      <td>1546060</td>\n",
       "      <td>15703</td>\n",
       "      <td>8856</td>\n",
       "      <td>7469</td>\n",
       "      <td>6368</td>\n",
       "      <td>5498</td>\n",
       "      <td>5457</td>\n",
       "      <td>4650</td>\n",
       "      <td>4187</td>\n",
       "      <td>3476</td>\n",
       "      <td>...</td>\n",
       "      <td>757</td>\n",
       "      <td>751</td>\n",
       "      <td>749</td>\n",
       "      <td>746</td>\n",
       "      <td>737</td>\n",
       "      <td>734</td>\n",
       "      <td>728</td>\n",
       "      <td>717</td>\n",
       "      <td>711</td>\n",
       "      <td>709</td>\n",
       "    </tr>\n",
       "  </tbody>\n",
       "</table>\n",
       "<p>2 rows × 100 columns</p>\n",
       "</div>"
      ],
      "text/plain": [
       "                    0                1                2                3   \\\n",
       "index  vasstdc27m7nks3  7zyltxp0hh36vpp  q0skvht51258k93  96ky12gxeqflpwz   \n",
       "url            1546060            15703             8856             7469   \n",
       "\n",
       "                    4                5                6                7   \\\n",
       "index  gavdutxwg0vi1gn  oqknoadbcbcm6so  fezw942t15um898  1bltvi87id7pau1   \n",
       "url               6368             5498             5457             4650   \n",
       "\n",
       "                    8                9   ...               90  \\\n",
       "index  9tkl0aevixr0p4f  vfq2ojps7euhv04  ...  6ofqlkh9s8cyaxl   \n",
       "url               4187             3476  ...              757   \n",
       "\n",
       "                    91               92               93               94  \\\n",
       "index  n0qud3sg3wwgjch  co51dtt0pyag991  walsruxfnnlvfve  8golk6oetcgd6wm   \n",
       "url                751              749              746              737   \n",
       "\n",
       "                    95               96               97               98  \\\n",
       "index  mz2rw4my6viapc9  7mtbxfv50lwxgz5  h995xxvs8pizdxk  j0hirofmqr1uadz   \n",
       "url                734              728              717              711   \n",
       "\n",
       "                    99  \n",
       "index  sf4md62w035ql3h  \n",
       "url                709  \n",
       "\n",
       "[2 rows x 100 columns]"
      ]
     },
     "execution_count": 15,
     "metadata": {},
     "output_type": "execute_result"
    }
   ],
   "source": [
    "print(d['url'].nunique())\n",
    "print(d['url'].nunique()/len(d['url']))\n",
    "d['url'].value_counts().sort_values(ascending=False).reset_index()[0:100].T"
   ]
  },
  {
   "cell_type": "markdown",
   "metadata": {},
   "source": [
    "## 2.10 payment_account"
   ]
  },
  {
   "cell_type": "code",
   "execution_count": 16,
   "metadata": {},
   "outputs": [
    {
     "name": "stdout",
     "output_type": "stream",
     "text": [
      "1984\n",
      "0.0006459965147446099\n"
     ]
    },
    {
     "data": {
      "text/html": [
       "<div>\n",
       "<style scoped>\n",
       "    .dataframe tbody tr th:only-of-type {\n",
       "        vertical-align: middle;\n",
       "    }\n",
       "\n",
       "    .dataframe tbody tr th {\n",
       "        vertical-align: top;\n",
       "    }\n",
       "\n",
       "    .dataframe thead th {\n",
       "        text-align: right;\n",
       "    }\n",
       "</style>\n",
       "<table border=\"1\" class=\"dataframe\">\n",
       "  <thead>\n",
       "    <tr style=\"text-align: right;\">\n",
       "      <th></th>\n",
       "      <th>0</th>\n",
       "      <th>1</th>\n",
       "      <th>2</th>\n",
       "      <th>3</th>\n",
       "      <th>4</th>\n",
       "      <th>5</th>\n",
       "      <th>6</th>\n",
       "      <th>7</th>\n",
       "      <th>8</th>\n",
       "      <th>9</th>\n",
       "      <th>...</th>\n",
       "      <th>90</th>\n",
       "      <th>91</th>\n",
       "      <th>92</th>\n",
       "      <th>93</th>\n",
       "      <th>94</th>\n",
       "      <th>95</th>\n",
       "      <th>96</th>\n",
       "      <th>97</th>\n",
       "      <th>98</th>\n",
       "      <th>99</th>\n",
       "    </tr>\n",
       "  </thead>\n",
       "  <tbody>\n",
       "    <tr>\n",
       "      <th>index</th>\n",
       "      <td>a3d2de7675556553a5f08e4c88d2c228sezhf</td>\n",
       "      <td>faef6512727719c3dd147a06ba951c947c4fn</td>\n",
       "      <td>a3d2de7675556553a5f08e4c88d2c22817wsw</td>\n",
       "      <td>a04bad750c3144125fb80a399273bfa1wi6hx</td>\n",
       "      <td>a3d2de7675556553a5f08e4c88d2c228b0s7q</td>\n",
       "      <td>a3d2de7675556553a5f08e4c88d2c228x2qy8</td>\n",
       "      <td>a3d2de7675556553a5f08e4c88d2c2285pkzn</td>\n",
       "      <td>32b760348f97730712bf5259e7abe531erkgg</td>\n",
       "      <td>9582a40d50577333f498e3c6f6b0e9cbqvvld</td>\n",
       "      <td>06602d61e71d281961c94a143471a38ei23rd</td>\n",
       "      <td>...</td>\n",
       "      <td>edef5fc426c9ece2aea86fdebb72aa204a3hp</td>\n",
       "      <td>e5c540867562e7461a7ab110794d1772aff1y</td>\n",
       "      <td>4814fdc53f3b70c31b093dab6e3256e18xm6b</td>\n",
       "      <td>fb0351b7c4021ec0358b994a7e2efc5bmnsco</td>\n",
       "      <td>fcc90337693238ed69a24820c75fa136yrqj9</td>\n",
       "      <td>3d35e430674afdbaa3a399b75e330911hnty8</td>\n",
       "      <td>30ed2898be3a25cab16c1b1c1977aba50w18z</td>\n",
       "      <td>a3d2de7675556553a5f08e4c88d2c228864ku</td>\n",
       "      <td>a3d2de7675556553a5f08e4c88d2c2284ef9d</td>\n",
       "      <td>a3d2de7675556553a5f08e4c88d2c228qq9uu</td>\n",
       "    </tr>\n",
       "    <tr>\n",
       "      <th>payment_account</th>\n",
       "      <td>515033</td>\n",
       "      <td>236413</td>\n",
       "      <td>192565</td>\n",
       "      <td>161935</td>\n",
       "      <td>84319</td>\n",
       "      <td>73357</td>\n",
       "      <td>66027</td>\n",
       "      <td>58195</td>\n",
       "      <td>54987</td>\n",
       "      <td>51421</td>\n",
       "      <td>...</td>\n",
       "      <td>4546</td>\n",
       "      <td>4429</td>\n",
       "      <td>4415</td>\n",
       "      <td>4353</td>\n",
       "      <td>4289</td>\n",
       "      <td>4184</td>\n",
       "      <td>4056</td>\n",
       "      <td>3989</td>\n",
       "      <td>3989</td>\n",
       "      <td>3976</td>\n",
       "    </tr>\n",
       "  </tbody>\n",
       "</table>\n",
       "<p>2 rows × 100 columns</p>\n",
       "</div>"
      ],
      "text/plain": [
       "                                                    0   \\\n",
       "index            a3d2de7675556553a5f08e4c88d2c228sezhf   \n",
       "payment_account                                 515033   \n",
       "\n",
       "                                                    1   \\\n",
       "index            faef6512727719c3dd147a06ba951c947c4fn   \n",
       "payment_account                                 236413   \n",
       "\n",
       "                                                    2   \\\n",
       "index            a3d2de7675556553a5f08e4c88d2c22817wsw   \n",
       "payment_account                                 192565   \n",
       "\n",
       "                                                    3   \\\n",
       "index            a04bad750c3144125fb80a399273bfa1wi6hx   \n",
       "payment_account                                 161935   \n",
       "\n",
       "                                                    4   \\\n",
       "index            a3d2de7675556553a5f08e4c88d2c228b0s7q   \n",
       "payment_account                                  84319   \n",
       "\n",
       "                                                    5   \\\n",
       "index            a3d2de7675556553a5f08e4c88d2c228x2qy8   \n",
       "payment_account                                  73357   \n",
       "\n",
       "                                                    6   \\\n",
       "index            a3d2de7675556553a5f08e4c88d2c2285pkzn   \n",
       "payment_account                                  66027   \n",
       "\n",
       "                                                    7   \\\n",
       "index            32b760348f97730712bf5259e7abe531erkgg   \n",
       "payment_account                                  58195   \n",
       "\n",
       "                                                    8   \\\n",
       "index            9582a40d50577333f498e3c6f6b0e9cbqvvld   \n",
       "payment_account                                  54987   \n",
       "\n",
       "                                                    9   ...  \\\n",
       "index            06602d61e71d281961c94a143471a38ei23rd  ...   \n",
       "payment_account                                  51421  ...   \n",
       "\n",
       "                                                    90  \\\n",
       "index            edef5fc426c9ece2aea86fdebb72aa204a3hp   \n",
       "payment_account                                   4546   \n",
       "\n",
       "                                                    91  \\\n",
       "index            e5c540867562e7461a7ab110794d1772aff1y   \n",
       "payment_account                                   4429   \n",
       "\n",
       "                                                    92  \\\n",
       "index            4814fdc53f3b70c31b093dab6e3256e18xm6b   \n",
       "payment_account                                   4415   \n",
       "\n",
       "                                                    93  \\\n",
       "index            fb0351b7c4021ec0358b994a7e2efc5bmnsco   \n",
       "payment_account                                   4353   \n",
       "\n",
       "                                                    94  \\\n",
       "index            fcc90337693238ed69a24820c75fa136yrqj9   \n",
       "payment_account                                   4289   \n",
       "\n",
       "                                                    95  \\\n",
       "index            3d35e430674afdbaa3a399b75e330911hnty8   \n",
       "payment_account                                   4184   \n",
       "\n",
       "                                                    96  \\\n",
       "index            30ed2898be3a25cab16c1b1c1977aba50w18z   \n",
       "payment_account                                   4056   \n",
       "\n",
       "                                                    97  \\\n",
       "index            a3d2de7675556553a5f08e4c88d2c228864ku   \n",
       "payment_account                                   3989   \n",
       "\n",
       "                                                    98  \\\n",
       "index            a3d2de7675556553a5f08e4c88d2c2284ef9d   \n",
       "payment_account                                   3989   \n",
       "\n",
       "                                                    99  \n",
       "index            a3d2de7675556553a5f08e4c88d2c228qq9uu  \n",
       "payment_account                                   3976  \n",
       "\n",
       "[2 rows x 100 columns]"
      ]
     },
     "execution_count": 16,
     "metadata": {},
     "output_type": "execute_result"
    }
   ],
   "source": [
    "print(d['payment_account'].nunique())\n",
    "print(d['payment_account'].nunique()/len(d['payment_account']))\n",
    "d['payment_account'].value_counts().sort_values(ascending=False).reset_index()[0:100].T"
   ]
  },
  {
   "cell_type": "markdown",
   "metadata": {},
   "source": [
    "## 2.11 address"
   ]
  },
  {
   "cell_type": "code",
   "execution_count": 17,
   "metadata": {},
   "outputs": [
    {
     "name": "stdout",
     "output_type": "stream",
     "text": [
      "1984\n",
      "0.0006459965147446099\n"
     ]
    },
    {
     "data": {
      "text/html": [
       "<div>\n",
       "<style scoped>\n",
       "    .dataframe tbody tr th:only-of-type {\n",
       "        vertical-align: middle;\n",
       "    }\n",
       "\n",
       "    .dataframe tbody tr th {\n",
       "        vertical-align: top;\n",
       "    }\n",
       "\n",
       "    .dataframe thead th {\n",
       "        text-align: right;\n",
       "    }\n",
       "</style>\n",
       "<table border=\"1\" class=\"dataframe\">\n",
       "  <thead>\n",
       "    <tr style=\"text-align: right;\">\n",
       "      <th></th>\n",
       "      <th>0</th>\n",
       "      <th>1</th>\n",
       "      <th>2</th>\n",
       "      <th>3</th>\n",
       "      <th>4</th>\n",
       "      <th>5</th>\n",
       "      <th>6</th>\n",
       "      <th>7</th>\n",
       "      <th>8</th>\n",
       "      <th>9</th>\n",
       "      <th>...</th>\n",
       "      <th>1974</th>\n",
       "      <th>1975</th>\n",
       "      <th>1976</th>\n",
       "      <th>1977</th>\n",
       "      <th>1978</th>\n",
       "      <th>1979</th>\n",
       "      <th>1980</th>\n",
       "      <th>1981</th>\n",
       "      <th>1982</th>\n",
       "      <th>1983</th>\n",
       "    </tr>\n",
       "  </thead>\n",
       "  <tbody>\n",
       "    <tr>\n",
       "      <th>index</th>\n",
       "      <td>a3d2de7675556553a5f08e4c88d2c228nfhse</td>\n",
       "      <td>dd7151709002fc3dce968916d8ec00ede03vc</td>\n",
       "      <td>a3d2de7675556553a5f08e4c88d2c228qg5i2</td>\n",
       "      <td>fcec7ba7b352f0a5e62ca742391e8ab3yylj7</td>\n",
       "      <td>a3d2de7675556553a5f08e4c88d2c228dehmo</td>\n",
       "      <td>a3d2de7675556553a5f08e4c88d2c228tfgez</td>\n",
       "      <td>fa939ec90cd12dfa968446b64984ae84rjmka</td>\n",
       "      <td>43058cc45a1e3e47851faff164c27f0bnp0me</td>\n",
       "      <td>40a05b122142822ca6ac84addc794cca8lt2o</td>\n",
       "      <td>a3d2de7675556553a5f08e4c88d2c228o21d6</td>\n",
       "      <td>...</td>\n",
       "      <td>4313093e51ad9cd071f8912c7ad8429aidkpv</td>\n",
       "      <td>a8b1c637438b418dd73b7c03fa8d86d8y6gid</td>\n",
       "      <td>e9ac7750d73a796460f96b096b29725f9af3c</td>\n",
       "      <td>f83eb9ddf235f43bada7e09f3996e802n1j8m</td>\n",
       "      <td>dee44a87c5db48c9f6ca23e37d6f61074typq</td>\n",
       "      <td>a3d2de7675556553a5f08e4c88d2c228y9o07</td>\n",
       "      <td>384716c12cf6dc17aae1fce671ef5739cal2c</td>\n",
       "      <td>a3d2de7675556553a5f08e4c88d2c228wuzmv</td>\n",
       "      <td>a3d2de7675556553a5f08e4c88d2c228dxeyy</td>\n",
       "      <td>a3d2de7675556553a5f08e4c88d2c228g787t</td>\n",
       "    </tr>\n",
       "    <tr>\n",
       "      <th>address</th>\n",
       "      <td>515033</td>\n",
       "      <td>236413</td>\n",
       "      <td>192565</td>\n",
       "      <td>161935</td>\n",
       "      <td>84319</td>\n",
       "      <td>73357</td>\n",
       "      <td>66027</td>\n",
       "      <td>58195</td>\n",
       "      <td>54987</td>\n",
       "      <td>51421</td>\n",
       "      <td>...</td>\n",
       "      <td>1</td>\n",
       "      <td>1</td>\n",
       "      <td>1</td>\n",
       "      <td>1</td>\n",
       "      <td>1</td>\n",
       "      <td>1</td>\n",
       "      <td>1</td>\n",
       "      <td>1</td>\n",
       "      <td>1</td>\n",
       "      <td>1</td>\n",
       "    </tr>\n",
       "  </tbody>\n",
       "</table>\n",
       "<p>2 rows × 1984 columns</p>\n",
       "</div>"
      ],
      "text/plain": [
       "                                          0     \\\n",
       "index    a3d2de7675556553a5f08e4c88d2c228nfhse   \n",
       "address                                 515033   \n",
       "\n",
       "                                          1     \\\n",
       "index    dd7151709002fc3dce968916d8ec00ede03vc   \n",
       "address                                 236413   \n",
       "\n",
       "                                          2     \\\n",
       "index    a3d2de7675556553a5f08e4c88d2c228qg5i2   \n",
       "address                                 192565   \n",
       "\n",
       "                                          3     \\\n",
       "index    fcec7ba7b352f0a5e62ca742391e8ab3yylj7   \n",
       "address                                 161935   \n",
       "\n",
       "                                          4     \\\n",
       "index    a3d2de7675556553a5f08e4c88d2c228dehmo   \n",
       "address                                  84319   \n",
       "\n",
       "                                          5     \\\n",
       "index    a3d2de7675556553a5f08e4c88d2c228tfgez   \n",
       "address                                  73357   \n",
       "\n",
       "                                          6     \\\n",
       "index    fa939ec90cd12dfa968446b64984ae84rjmka   \n",
       "address                                  66027   \n",
       "\n",
       "                                          7     \\\n",
       "index    43058cc45a1e3e47851faff164c27f0bnp0me   \n",
       "address                                  58195   \n",
       "\n",
       "                                          8     \\\n",
       "index    40a05b122142822ca6ac84addc794cca8lt2o   \n",
       "address                                  54987   \n",
       "\n",
       "                                          9     ...  \\\n",
       "index    a3d2de7675556553a5f08e4c88d2c228o21d6  ...   \n",
       "address                                  51421  ...   \n",
       "\n",
       "                                          1974  \\\n",
       "index    4313093e51ad9cd071f8912c7ad8429aidkpv   \n",
       "address                                      1   \n",
       "\n",
       "                                          1975  \\\n",
       "index    a8b1c637438b418dd73b7c03fa8d86d8y6gid   \n",
       "address                                      1   \n",
       "\n",
       "                                          1976  \\\n",
       "index    e9ac7750d73a796460f96b096b29725f9af3c   \n",
       "address                                      1   \n",
       "\n",
       "                                          1977  \\\n",
       "index    f83eb9ddf235f43bada7e09f3996e802n1j8m   \n",
       "address                                      1   \n",
       "\n",
       "                                          1978  \\\n",
       "index    dee44a87c5db48c9f6ca23e37d6f61074typq   \n",
       "address                                      1   \n",
       "\n",
       "                                          1979  \\\n",
       "index    a3d2de7675556553a5f08e4c88d2c228y9o07   \n",
       "address                                      1   \n",
       "\n",
       "                                          1980  \\\n",
       "index    384716c12cf6dc17aae1fce671ef5739cal2c   \n",
       "address                                      1   \n",
       "\n",
       "                                          1981  \\\n",
       "index    a3d2de7675556553a5f08e4c88d2c228wuzmv   \n",
       "address                                      1   \n",
       "\n",
       "                                          1982  \\\n",
       "index    a3d2de7675556553a5f08e4c88d2c228dxeyy   \n",
       "address                                      1   \n",
       "\n",
       "                                          1983  \n",
       "index    a3d2de7675556553a5f08e4c88d2c228g787t  \n",
       "address                                      1  \n",
       "\n",
       "[2 rows x 1984 columns]"
      ]
     },
     "execution_count": 17,
     "metadata": {},
     "output_type": "execute_result"
    }
   ],
   "source": [
    "print(d['address'].nunique())\n",
    "print(d['address'].nunique()/len(d['address']))\n",
    "d['address'].value_counts().sort_values(ascending=False).reset_index().T"
   ]
  },
  {
   "cell_type": "markdown",
   "metadata": {},
   "source": [
    "## 2.12 outcome"
   ]
  },
  {
   "cell_type": "code",
   "execution_count": 18,
   "metadata": {},
   "outputs": [
    {
     "name": "stdout",
     "output_type": "stream",
     "text": [
      "2\n",
      "0.0    0.865716\n",
      "1.0    0.134284\n",
      "Name: outcome, dtype: float64\n"
     ]
    }
   ],
   "source": [
    "print(d['outcome'].nunique())\n",
    "print(d['outcome'].value_counts()/len(d['outcome']))"
   ]
  },
  {
   "cell_type": "markdown",
   "metadata": {},
   "source": [
    "## 2.2 Missing Value Imputation"
   ]
  },
  {
   "cell_type": "code",
   "execution_count": 8,
   "metadata": {},
   "outputs": [],
   "source": [
    "d['country'].fillna('empty', inplace=True)"
   ]
  },
  {
   "cell_type": "code",
   "execution_count": 9,
   "metadata": {},
   "outputs": [
    {
     "data": {
      "text/plain": [
       "0.0"
      ]
     },
     "execution_count": 9,
     "metadata": {},
     "output_type": "execute_result"
    }
   ],
   "source": [
    "d['country'].isna().sum()/len(d)"
   ]
  },
  {
   "cell_type": "markdown",
   "metadata": {},
   "source": [
    "## 3. Feature Engineering"
   ]
  },
  {
   "cell_type": "markdown",
   "metadata": {},
   "source": [
    "## 3.1 # Bids per Bidder"
   ]
  },
  {
   "cell_type": "code",
   "execution_count": 10,
   "metadata": {},
   "outputs": [
    {
     "data": {
      "text/html": [
       "<div>\n",
       "<style scoped>\n",
       "    .dataframe tbody tr th:only-of-type {\n",
       "        vertical-align: middle;\n",
       "    }\n",
       "\n",
       "    .dataframe tbody tr th {\n",
       "        vertical-align: top;\n",
       "    }\n",
       "\n",
       "    .dataframe thead th {\n",
       "        text-align: right;\n",
       "    }\n",
       "</style>\n",
       "<table border=\"1\" class=\"dataframe\">\n",
       "  <thead>\n",
       "    <tr style=\"text-align: right;\">\n",
       "      <th></th>\n",
       "      <th>bidder_id</th>\n",
       "      <th>tot_bid</th>\n",
       "    </tr>\n",
       "  </thead>\n",
       "  <tbody>\n",
       "    <tr>\n",
       "      <th>0</th>\n",
       "      <td>f5b2bbad20d1d7ded3ed960393bec0f40u6hn</td>\n",
       "      <td>515033</td>\n",
       "    </tr>\n",
       "    <tr>\n",
       "      <th>1</th>\n",
       "      <td>197e90906939267ace2422e78e8e83889znqp</td>\n",
       "      <td>236413</td>\n",
       "    </tr>\n",
       "    <tr>\n",
       "      <th>2</th>\n",
       "      <td>a58ace8b671a7531c88814bc86b2a34cf0crb</td>\n",
       "      <td>192565</td>\n",
       "    </tr>\n",
       "    <tr>\n",
       "      <th>3</th>\n",
       "      <td>9655ccc7c0c193f1549475f02c54dce45kjw7</td>\n",
       "      <td>161935</td>\n",
       "    </tr>\n",
       "    <tr>\n",
       "      <th>4</th>\n",
       "      <td>6c8ffec692e88d81e1b18d47818abb04v6llr</td>\n",
       "      <td>84319</td>\n",
       "    </tr>\n",
       "  </tbody>\n",
       "</table>\n",
       "</div>"
      ],
      "text/plain": [
       "                               bidder_id  tot_bid\n",
       "0  f5b2bbad20d1d7ded3ed960393bec0f40u6hn   515033\n",
       "1  197e90906939267ace2422e78e8e83889znqp   236413\n",
       "2  a58ace8b671a7531c88814bc86b2a34cf0crb   192565\n",
       "3  9655ccc7c0c193f1549475f02c54dce45kjw7   161935\n",
       "4  6c8ffec692e88d81e1b18d47818abb04v6llr    84319"
      ]
     },
     "execution_count": 10,
     "metadata": {},
     "output_type": "execute_result"
    }
   ],
   "source": [
    "### Total bids for each bidder\n",
    "tot_bid = d['bidder_id']\\\n",
    "    .value_counts()\\\n",
    "    .reset_index()\\\n",
    "    .rename(columns = {'index':'bidder_id','bidder_id':'tot_bid'})\n",
    "\n",
    "tot_bid.head()"
   ]
  },
  {
   "cell_type": "markdown",
   "metadata": {},
   "source": [
    "## 3.2 # Auctions per Bidder"
   ]
  },
  {
   "cell_type": "code",
   "execution_count": 11,
   "metadata": {},
   "outputs": [
    {
     "data": {
      "text/html": [
       "<div>\n",
       "<style scoped>\n",
       "    .dataframe tbody tr th:only-of-type {\n",
       "        vertical-align: middle;\n",
       "    }\n",
       "\n",
       "    .dataframe tbody tr th {\n",
       "        vertical-align: top;\n",
       "    }\n",
       "\n",
       "    .dataframe thead th {\n",
       "        text-align: right;\n",
       "    }\n",
       "</style>\n",
       "<table border=\"1\" class=\"dataframe\">\n",
       "  <thead>\n",
       "    <tr style=\"text-align: right;\">\n",
       "      <th></th>\n",
       "      <th>bidder_id</th>\n",
       "      <th>tot_auc</th>\n",
       "    </tr>\n",
       "  </thead>\n",
       "  <tbody>\n",
       "    <tr>\n",
       "      <th>0</th>\n",
       "      <td>001068c415025a009fee375a12cff4fcnht8y</td>\n",
       "      <td>1</td>\n",
       "    </tr>\n",
       "    <tr>\n",
       "      <th>1</th>\n",
       "      <td>0030a2dd87ad2733e0873062e4f83954mkj86</td>\n",
       "      <td>1</td>\n",
       "    </tr>\n",
       "    <tr>\n",
       "      <th>2</th>\n",
       "      <td>00a0517965f18610417ee784a05f494d4dw6e</td>\n",
       "      <td>74</td>\n",
       "    </tr>\n",
       "    <tr>\n",
       "      <th>3</th>\n",
       "      <td>00cc97158e6f4cb8eac3c0075918b7ffi5k8o</td>\n",
       "      <td>3</td>\n",
       "    </tr>\n",
       "    <tr>\n",
       "      <th>4</th>\n",
       "      <td>01067975436d123f717ee5aba0dd4bbfa0937</td>\n",
       "      <td>17</td>\n",
       "    </tr>\n",
       "  </tbody>\n",
       "</table>\n",
       "</div>"
      ],
      "text/plain": [
       "                               bidder_id  tot_auc\n",
       "0  001068c415025a009fee375a12cff4fcnht8y        1\n",
       "1  0030a2dd87ad2733e0873062e4f83954mkj86        1\n",
       "2  00a0517965f18610417ee784a05f494d4dw6e       74\n",
       "3  00cc97158e6f4cb8eac3c0075918b7ffi5k8o        3\n",
       "4  01067975436d123f717ee5aba0dd4bbfa0937       17"
      ]
     },
     "execution_count": 11,
     "metadata": {},
     "output_type": "execute_result"
    }
   ],
   "source": [
    "### Total auctions for each bidder\n",
    "tot_auc = d\\\n",
    "    .groupby(['bidder_id'])['auction'].nunique()\\\n",
    "    .reset_index().rename(columns = {'auction':'tot_auc'})\n",
    "\n",
    "tot_auc.head()"
   ]
  },
  {
   "cell_type": "markdown",
   "metadata": {},
   "source": [
    "## 3.3 Max # Bids in a Country per Bidder"
   ]
  },
  {
   "cell_type": "code",
   "execution_count": 12,
   "metadata": {},
   "outputs": [
    {
     "data": {
      "text/html": [
       "<div>\n",
       "<style scoped>\n",
       "    .dataframe tbody tr th:only-of-type {\n",
       "        vertical-align: middle;\n",
       "    }\n",
       "\n",
       "    .dataframe tbody tr th {\n",
       "        vertical-align: top;\n",
       "    }\n",
       "\n",
       "    .dataframe thead th {\n",
       "        text-align: right;\n",
       "    }\n",
       "</style>\n",
       "<table border=\"1\" class=\"dataframe\">\n",
       "  <thead>\n",
       "    <tr style=\"text-align: right;\">\n",
       "      <th></th>\n",
       "      <th>bidder_id</th>\n",
       "      <th>max_bid_ctry_bidder</th>\n",
       "    </tr>\n",
       "  </thead>\n",
       "  <tbody>\n",
       "    <tr>\n",
       "      <th>0</th>\n",
       "      <td>001068c415025a009fee375a12cff4fcnht8y</td>\n",
       "      <td>1</td>\n",
       "    </tr>\n",
       "    <tr>\n",
       "      <th>1</th>\n",
       "      <td>0030a2dd87ad2733e0873062e4f83954mkj86</td>\n",
       "      <td>1</td>\n",
       "    </tr>\n",
       "    <tr>\n",
       "      <th>2</th>\n",
       "      <td>00a0517965f18610417ee784a05f494d4dw6e</td>\n",
       "      <td>83</td>\n",
       "    </tr>\n",
       "    <tr>\n",
       "      <th>3</th>\n",
       "      <td>00cc97158e6f4cb8eac3c0075918b7ffi5k8o</td>\n",
       "      <td>2</td>\n",
       "    </tr>\n",
       "    <tr>\n",
       "      <th>4</th>\n",
       "      <td>01067975436d123f717ee5aba0dd4bbfa0937</td>\n",
       "      <td>123</td>\n",
       "    </tr>\n",
       "  </tbody>\n",
       "</table>\n",
       "</div>"
      ],
      "text/plain": [
       "                               bidder_id  max_bid_ctry_bidder\n",
       "0  001068c415025a009fee375a12cff4fcnht8y                    1\n",
       "1  0030a2dd87ad2733e0873062e4f83954mkj86                    1\n",
       "2  00a0517965f18610417ee784a05f494d4dw6e                   83\n",
       "3  00cc97158e6f4cb8eac3c0075918b7ffi5k8o                    2\n",
       "4  01067975436d123f717ee5aba0dd4bbfa0937                  123"
      ]
     },
     "execution_count": 12,
     "metadata": {},
     "output_type": "execute_result"
    }
   ],
   "source": [
    "max_bid_ctry_bidder = d\\\n",
    "    .groupby(['country','bidder_id'])['bid_id'].count()\\\n",
    "    .reset_index().rename(columns = {'bid_id':'max_bid_ctry_bidder'})\\\n",
    "    .groupby(['bidder_id'])['max_bid_ctry_bidder'].max().reset_index()\n",
    "\n",
    "max_bid_ctry_bidder.head()"
   ]
  },
  {
   "cell_type": "markdown",
   "metadata": {},
   "source": [
    "## 3.4 # Urls per Bidder"
   ]
  },
  {
   "cell_type": "code",
   "execution_count": 13,
   "metadata": {},
   "outputs": [
    {
     "data": {
      "text/html": [
       "<div>\n",
       "<style scoped>\n",
       "    .dataframe tbody tr th:only-of-type {\n",
       "        vertical-align: middle;\n",
       "    }\n",
       "\n",
       "    .dataframe tbody tr th {\n",
       "        vertical-align: top;\n",
       "    }\n",
       "\n",
       "    .dataframe thead th {\n",
       "        text-align: right;\n",
       "    }\n",
       "</style>\n",
       "<table border=\"1\" class=\"dataframe\">\n",
       "  <thead>\n",
       "    <tr style=\"text-align: right;\">\n",
       "      <th></th>\n",
       "      <th>bidder_id</th>\n",
       "      <th>tot_url</th>\n",
       "    </tr>\n",
       "  </thead>\n",
       "  <tbody>\n",
       "    <tr>\n",
       "      <th>0</th>\n",
       "      <td>001068c415025a009fee375a12cff4fcnht8y</td>\n",
       "      <td>1</td>\n",
       "    </tr>\n",
       "    <tr>\n",
       "      <th>1</th>\n",
       "      <td>0030a2dd87ad2733e0873062e4f83954mkj86</td>\n",
       "      <td>1</td>\n",
       "    </tr>\n",
       "    <tr>\n",
       "      <th>2</th>\n",
       "      <td>00a0517965f18610417ee784a05f494d4dw6e</td>\n",
       "      <td>84</td>\n",
       "    </tr>\n",
       "    <tr>\n",
       "      <th>3</th>\n",
       "      <td>00cc97158e6f4cb8eac3c0075918b7ffi5k8o</td>\n",
       "      <td>1</td>\n",
       "    </tr>\n",
       "    <tr>\n",
       "      <th>4</th>\n",
       "      <td>01067975436d123f717ee5aba0dd4bbfa0937</td>\n",
       "      <td>4</td>\n",
       "    </tr>\n",
       "  </tbody>\n",
       "</table>\n",
       "</div>"
      ],
      "text/plain": [
       "                               bidder_id  tot_url\n",
       "0  001068c415025a009fee375a12cff4fcnht8y        1\n",
       "1  0030a2dd87ad2733e0873062e4f83954mkj86        1\n",
       "2  00a0517965f18610417ee784a05f494d4dw6e       84\n",
       "3  00cc97158e6f4cb8eac3c0075918b7ffi5k8o        1\n",
       "4  01067975436d123f717ee5aba0dd4bbfa0937        4"
      ]
     },
     "execution_count": 13,
     "metadata": {},
     "output_type": "execute_result"
    }
   ],
   "source": [
    "tot_url = d\\\n",
    "    .groupby(['bidder_id'])['url'].nunique()\\\n",
    "    .reset_index().rename(columns = {'url':'tot_url'})\n",
    "\n",
    "tot_url.head()"
   ]
  },
  {
   "cell_type": "markdown",
   "metadata": {},
   "source": [
    "## 3.5 # Unique Timestamps per Bidder"
   ]
  },
  {
   "cell_type": "code",
   "execution_count": 14,
   "metadata": {},
   "outputs": [
    {
     "data": {
      "text/html": [
       "<div>\n",
       "<style scoped>\n",
       "    .dataframe tbody tr th:only-of-type {\n",
       "        vertical-align: middle;\n",
       "    }\n",
       "\n",
       "    .dataframe tbody tr th {\n",
       "        vertical-align: top;\n",
       "    }\n",
       "\n",
       "    .dataframe thead th {\n",
       "        text-align: right;\n",
       "    }\n",
       "</style>\n",
       "<table border=\"1\" class=\"dataframe\">\n",
       "  <thead>\n",
       "    <tr style=\"text-align: right;\">\n",
       "      <th></th>\n",
       "      <th>bidder_id</th>\n",
       "      <th>tot_uni_time</th>\n",
       "    </tr>\n",
       "  </thead>\n",
       "  <tbody>\n",
       "    <tr>\n",
       "      <th>0</th>\n",
       "      <td>001068c415025a009fee375a12cff4fcnht8y</td>\n",
       "      <td>1</td>\n",
       "    </tr>\n",
       "    <tr>\n",
       "      <th>1</th>\n",
       "      <td>0030a2dd87ad2733e0873062e4f83954mkj86</td>\n",
       "      <td>1</td>\n",
       "    </tr>\n",
       "    <tr>\n",
       "      <th>2</th>\n",
       "      <td>00a0517965f18610417ee784a05f494d4dw6e</td>\n",
       "      <td>141</td>\n",
       "    </tr>\n",
       "    <tr>\n",
       "      <th>3</th>\n",
       "      <td>00cc97158e6f4cb8eac3c0075918b7ffi5k8o</td>\n",
       "      <td>3</td>\n",
       "    </tr>\n",
       "    <tr>\n",
       "      <th>4</th>\n",
       "      <td>01067975436d123f717ee5aba0dd4bbfa0937</td>\n",
       "      <td>543</td>\n",
       "    </tr>\n",
       "  </tbody>\n",
       "</table>\n",
       "</div>"
      ],
      "text/plain": [
       "                               bidder_id  tot_uni_time\n",
       "0  001068c415025a009fee375a12cff4fcnht8y             1\n",
       "1  0030a2dd87ad2733e0873062e4f83954mkj86             1\n",
       "2  00a0517965f18610417ee784a05f494d4dw6e           141\n",
       "3  00cc97158e6f4cb8eac3c0075918b7ffi5k8o             3\n",
       "4  01067975436d123f717ee5aba0dd4bbfa0937           543"
      ]
     },
     "execution_count": 14,
     "metadata": {},
     "output_type": "execute_result"
    }
   ],
   "source": [
    "tot_uni_time = d\\\n",
    "    .groupby(['bidder_id'])['time'].nunique()\\\n",
    "    .reset_index().rename(columns = {'time':'tot_uni_time'})\n",
    "\n",
    "tot_uni_time.head()"
   ]
  },
  {
   "cell_type": "markdown",
   "metadata": {},
   "source": [
    "## 3.6 # Devices per Bidder\n"
   ]
  },
  {
   "cell_type": "code",
   "execution_count": 15,
   "metadata": {},
   "outputs": [
    {
     "data": {
      "text/html": [
       "<div>\n",
       "<style scoped>\n",
       "    .dataframe tbody tr th:only-of-type {\n",
       "        vertical-align: middle;\n",
       "    }\n",
       "\n",
       "    .dataframe tbody tr th {\n",
       "        vertical-align: top;\n",
       "    }\n",
       "\n",
       "    .dataframe thead th {\n",
       "        text-align: right;\n",
       "    }\n",
       "</style>\n",
       "<table border=\"1\" class=\"dataframe\">\n",
       "  <thead>\n",
       "    <tr style=\"text-align: right;\">\n",
       "      <th></th>\n",
       "      <th>bidder_id</th>\n",
       "      <th>tot_device</th>\n",
       "    </tr>\n",
       "  </thead>\n",
       "  <tbody>\n",
       "    <tr>\n",
       "      <th>0</th>\n",
       "      <td>001068c415025a009fee375a12cff4fcnht8y</td>\n",
       "      <td>1</td>\n",
       "    </tr>\n",
       "    <tr>\n",
       "      <th>1</th>\n",
       "      <td>0030a2dd87ad2733e0873062e4f83954mkj86</td>\n",
       "      <td>1</td>\n",
       "    </tr>\n",
       "    <tr>\n",
       "      <th>2</th>\n",
       "      <td>00a0517965f18610417ee784a05f494d4dw6e</td>\n",
       "      <td>67</td>\n",
       "    </tr>\n",
       "    <tr>\n",
       "      <th>3</th>\n",
       "      <td>00cc97158e6f4cb8eac3c0075918b7ffi5k8o</td>\n",
       "      <td>3</td>\n",
       "    </tr>\n",
       "    <tr>\n",
       "      <th>4</th>\n",
       "      <td>01067975436d123f717ee5aba0dd4bbfa0937</td>\n",
       "      <td>165</td>\n",
       "    </tr>\n",
       "  </tbody>\n",
       "</table>\n",
       "</div>"
      ],
      "text/plain": [
       "                               bidder_id  tot_device\n",
       "0  001068c415025a009fee375a12cff4fcnht8y           1\n",
       "1  0030a2dd87ad2733e0873062e4f83954mkj86           1\n",
       "2  00a0517965f18610417ee784a05f494d4dw6e          67\n",
       "3  00cc97158e6f4cb8eac3c0075918b7ffi5k8o           3\n",
       "4  01067975436d123f717ee5aba0dd4bbfa0937         165"
      ]
     },
     "execution_count": 15,
     "metadata": {},
     "output_type": "execute_result"
    }
   ],
   "source": [
    "tot_device = d\\\n",
    "    .groupby(['bidder_id'])['device'].nunique()\\\n",
    "    .reset_index().rename(columns={'device':'tot_device'})\n",
    "\n",
    "\n",
    "tot_device.head()"
   ]
  },
  {
   "cell_type": "markdown",
   "metadata": {},
   "source": [
    "## 3.7 # IPs per Bidder"
   ]
  },
  {
   "cell_type": "code",
   "execution_count": 16,
   "metadata": {},
   "outputs": [
    {
     "data": {
      "text/html": [
       "<div>\n",
       "<style scoped>\n",
       "    .dataframe tbody tr th:only-of-type {\n",
       "        vertical-align: middle;\n",
       "    }\n",
       "\n",
       "    .dataframe tbody tr th {\n",
       "        vertical-align: top;\n",
       "    }\n",
       "\n",
       "    .dataframe thead th {\n",
       "        text-align: right;\n",
       "    }\n",
       "</style>\n",
       "<table border=\"1\" class=\"dataframe\">\n",
       "  <thead>\n",
       "    <tr style=\"text-align: right;\">\n",
       "      <th></th>\n",
       "      <th>bidder_id</th>\n",
       "      <th>tot_ip</th>\n",
       "    </tr>\n",
       "  </thead>\n",
       "  <tbody>\n",
       "    <tr>\n",
       "      <th>0</th>\n",
       "      <td>001068c415025a009fee375a12cff4fcnht8y</td>\n",
       "      <td>1</td>\n",
       "    </tr>\n",
       "    <tr>\n",
       "      <th>1</th>\n",
       "      <td>0030a2dd87ad2733e0873062e4f83954mkj86</td>\n",
       "      <td>1</td>\n",
       "    </tr>\n",
       "    <tr>\n",
       "      <th>2</th>\n",
       "      <td>00a0517965f18610417ee784a05f494d4dw6e</td>\n",
       "      <td>103</td>\n",
       "    </tr>\n",
       "    <tr>\n",
       "      <th>3</th>\n",
       "      <td>00cc97158e6f4cb8eac3c0075918b7ffi5k8o</td>\n",
       "      <td>3</td>\n",
       "    </tr>\n",
       "    <tr>\n",
       "      <th>4</th>\n",
       "      <td>01067975436d123f717ee5aba0dd4bbfa0937</td>\n",
       "      <td>398</td>\n",
       "    </tr>\n",
       "  </tbody>\n",
       "</table>\n",
       "</div>"
      ],
      "text/plain": [
       "                               bidder_id  tot_ip\n",
       "0  001068c415025a009fee375a12cff4fcnht8y       1\n",
       "1  0030a2dd87ad2733e0873062e4f83954mkj86       1\n",
       "2  00a0517965f18610417ee784a05f494d4dw6e     103\n",
       "3  00cc97158e6f4cb8eac3c0075918b7ffi5k8o       3\n",
       "4  01067975436d123f717ee5aba0dd4bbfa0937     398"
      ]
     },
     "execution_count": 16,
     "metadata": {},
     "output_type": "execute_result"
    }
   ],
   "source": [
    "tot_ip = d\\\n",
    "    .groupby(['bidder_id'])['ip'].nunique()\\\n",
    "    .reset_index().rename(columns = {'ip':'tot_ip'})\n",
    "\n",
    "tot_ip.head()"
   ]
  },
  {
   "cell_type": "markdown",
   "metadata": {},
   "source": [
    "## 3.8 # Bids in Merchandise per Bidder"
   ]
  },
  {
   "cell_type": "code",
   "execution_count": 17,
   "metadata": {},
   "outputs": [
    {
     "data": {
      "text/html": [
       "<div>\n",
       "<style scoped>\n",
       "    .dataframe tbody tr th:only-of-type {\n",
       "        vertical-align: middle;\n",
       "    }\n",
       "\n",
       "    .dataframe tbody tr th {\n",
       "        vertical-align: top;\n",
       "    }\n",
       "\n",
       "    .dataframe thead th {\n",
       "        text-align: right;\n",
       "    }\n",
       "</style>\n",
       "<table border=\"1\" class=\"dataframe\">\n",
       "  <thead>\n",
       "    <tr style=\"text-align: right;\">\n",
       "      <th></th>\n",
       "      <th>bidder_id</th>\n",
       "      <th>tot_merch</th>\n",
       "    </tr>\n",
       "  </thead>\n",
       "  <tbody>\n",
       "    <tr>\n",
       "      <th>0</th>\n",
       "      <td>001068c415025a009fee375a12cff4fcnht8y</td>\n",
       "      <td>1</td>\n",
       "    </tr>\n",
       "    <tr>\n",
       "      <th>1</th>\n",
       "      <td>0030a2dd87ad2733e0873062e4f83954mkj86</td>\n",
       "      <td>1</td>\n",
       "    </tr>\n",
       "    <tr>\n",
       "      <th>2</th>\n",
       "      <td>00a0517965f18610417ee784a05f494d4dw6e</td>\n",
       "      <td>1</td>\n",
       "    </tr>\n",
       "    <tr>\n",
       "      <th>3</th>\n",
       "      <td>00cc97158e6f4cb8eac3c0075918b7ffi5k8o</td>\n",
       "      <td>1</td>\n",
       "    </tr>\n",
       "    <tr>\n",
       "      <th>4</th>\n",
       "      <td>01067975436d123f717ee5aba0dd4bbfa0937</td>\n",
       "      <td>1</td>\n",
       "    </tr>\n",
       "  </tbody>\n",
       "</table>\n",
       "</div>"
      ],
      "text/plain": [
       "                               bidder_id  tot_merch\n",
       "0  001068c415025a009fee375a12cff4fcnht8y          1\n",
       "1  0030a2dd87ad2733e0873062e4f83954mkj86          1\n",
       "2  00a0517965f18610417ee784a05f494d4dw6e          1\n",
       "3  00cc97158e6f4cb8eac3c0075918b7ffi5k8o          1\n",
       "4  01067975436d123f717ee5aba0dd4bbfa0937          1"
      ]
     },
     "execution_count": 17,
     "metadata": {},
     "output_type": "execute_result"
    }
   ],
   "source": [
    "# avg_bid_merc_bidder = d\\\n",
    "#     .groupby(['merchandise','bidder_id'])['bid_id'].count()\\\n",
    "#     .reset_index().rename(columns = {'bid_id':'avg_bid_merc_bidder'})\\\n",
    "#     .groupby(['bidder_id'])['avg_bid_merc_bidder'].mean()\\\n",
    "#     .reset_index()\n",
    "\n",
    "# avg_bid_merc_bidder.head()\n",
    "\n",
    "tot_merch = d\\\n",
    "    .groupby(['bidder_id'])['merchandise'].nunique()\\\n",
    "    .reset_index().rename(columns = {'merchandise':'tot_merch'})\n",
    "\n",
    "tot_merch.head()"
   ]
  },
  {
   "cell_type": "markdown",
   "metadata": {},
   "source": [
    "## 3.9 Avg # Bids per Auction per Bidder"
   ]
  },
  {
   "cell_type": "code",
   "execution_count": 18,
   "metadata": {},
   "outputs": [
    {
     "data": {
      "text/html": [
       "<div>\n",
       "<style scoped>\n",
       "    .dataframe tbody tr th:only-of-type {\n",
       "        vertical-align: middle;\n",
       "    }\n",
       "\n",
       "    .dataframe tbody tr th {\n",
       "        vertical-align: top;\n",
       "    }\n",
       "\n",
       "    .dataframe thead th {\n",
       "        text-align: right;\n",
       "    }\n",
       "</style>\n",
       "<table border=\"1\" class=\"dataframe\">\n",
       "  <thead>\n",
       "    <tr style=\"text-align: right;\">\n",
       "      <th></th>\n",
       "      <th>bidder_id</th>\n",
       "      <th>avg_bid_auction_bidder</th>\n",
       "    </tr>\n",
       "  </thead>\n",
       "  <tbody>\n",
       "    <tr>\n",
       "      <th>0</th>\n",
       "      <td>001068c415025a009fee375a12cff4fcnht8y</td>\n",
       "      <td>1.000000</td>\n",
       "    </tr>\n",
       "    <tr>\n",
       "      <th>1</th>\n",
       "      <td>0030a2dd87ad2733e0873062e4f83954mkj86</td>\n",
       "      <td>1.000000</td>\n",
       "    </tr>\n",
       "    <tr>\n",
       "      <th>2</th>\n",
       "      <td>00a0517965f18610417ee784a05f494d4dw6e</td>\n",
       "      <td>1.905405</td>\n",
       "    </tr>\n",
       "    <tr>\n",
       "      <th>3</th>\n",
       "      <td>00cc97158e6f4cb8eac3c0075918b7ffi5k8o</td>\n",
       "      <td>1.000000</td>\n",
       "    </tr>\n",
       "    <tr>\n",
       "      <th>4</th>\n",
       "      <td>01067975436d123f717ee5aba0dd4bbfa0937</td>\n",
       "      <td>31.941176</td>\n",
       "    </tr>\n",
       "  </tbody>\n",
       "</table>\n",
       "</div>"
      ],
      "text/plain": [
       "                               bidder_id  avg_bid_auction_bidder\n",
       "0  001068c415025a009fee375a12cff4fcnht8y                1.000000\n",
       "1  0030a2dd87ad2733e0873062e4f83954mkj86                1.000000\n",
       "2  00a0517965f18610417ee784a05f494d4dw6e                1.905405\n",
       "3  00cc97158e6f4cb8eac3c0075918b7ffi5k8o                1.000000\n",
       "4  01067975436d123f717ee5aba0dd4bbfa0937               31.941176"
      ]
     },
     "execution_count": 18,
     "metadata": {},
     "output_type": "execute_result"
    }
   ],
   "source": [
    "\n",
    "avg_bid_auction_bidder = d \\\n",
    "    .loc[:, ['bid_id','bidder_id','auction']]\\\n",
    "    .groupby(['auction','bidder_id'])['bid_id'].count()\\\n",
    "    .reset_index().rename(columns={'bid_id':'bids_count_per_bidder_auction'}) \\\n",
    "    .groupby(['bidder_id'])['bids_count_per_bidder_auction'].mean()\\\n",
    "    .reset_index().rename(columns={'bids_count_per_bidder_auction':'avg_bid_auction_bidder'})\n",
    "\n",
    "avg_bid_auction_bidder.head()"
   ]
  },
  {
   "cell_type": "markdown",
   "metadata": {},
   "source": [
    "## 3.10 Avg # Bids per URL per Bidder"
   ]
  },
  {
   "cell_type": "code",
   "execution_count": 19,
   "metadata": {},
   "outputs": [
    {
     "data": {
      "text/html": [
       "<div>\n",
       "<style scoped>\n",
       "    .dataframe tbody tr th:only-of-type {\n",
       "        vertical-align: middle;\n",
       "    }\n",
       "\n",
       "    .dataframe tbody tr th {\n",
       "        vertical-align: top;\n",
       "    }\n",
       "\n",
       "    .dataframe thead th {\n",
       "        text-align: right;\n",
       "    }\n",
       "</style>\n",
       "<table border=\"1\" class=\"dataframe\">\n",
       "  <thead>\n",
       "    <tr style=\"text-align: right;\">\n",
       "      <th></th>\n",
       "      <th>bidder_id</th>\n",
       "      <th>avg_bid_url_bidder</th>\n",
       "    </tr>\n",
       "  </thead>\n",
       "  <tbody>\n",
       "    <tr>\n",
       "      <th>0</th>\n",
       "      <td>001068c415025a009fee375a12cff4fcnht8y</td>\n",
       "      <td>1.000000</td>\n",
       "    </tr>\n",
       "    <tr>\n",
       "      <th>1</th>\n",
       "      <td>0030a2dd87ad2733e0873062e4f83954mkj86</td>\n",
       "      <td>1.000000</td>\n",
       "    </tr>\n",
       "    <tr>\n",
       "      <th>2</th>\n",
       "      <td>00a0517965f18610417ee784a05f494d4dw6e</td>\n",
       "      <td>1.678571</td>\n",
       "    </tr>\n",
       "    <tr>\n",
       "      <th>3</th>\n",
       "      <td>00cc97158e6f4cb8eac3c0075918b7ffi5k8o</td>\n",
       "      <td>3.000000</td>\n",
       "    </tr>\n",
       "    <tr>\n",
       "      <th>4</th>\n",
       "      <td>01067975436d123f717ee5aba0dd4bbfa0937</td>\n",
       "      <td>135.750000</td>\n",
       "    </tr>\n",
       "  </tbody>\n",
       "</table>\n",
       "</div>"
      ],
      "text/plain": [
       "                               bidder_id  avg_bid_url_bidder\n",
       "0  001068c415025a009fee375a12cff4fcnht8y            1.000000\n",
       "1  0030a2dd87ad2733e0873062e4f83954mkj86            1.000000\n",
       "2  00a0517965f18610417ee784a05f494d4dw6e            1.678571\n",
       "3  00cc97158e6f4cb8eac3c0075918b7ffi5k8o            3.000000\n",
       "4  01067975436d123f717ee5aba0dd4bbfa0937          135.750000"
      ]
     },
     "execution_count": 19,
     "metadata": {},
     "output_type": "execute_result"
    }
   ],
   "source": [
    "\n",
    "avg_bid_url_bidder = d \\\n",
    "    .loc[:, ['bid_id','bidder_id','url']]\\\n",
    "    .groupby(['url','bidder_id'])['bid_id'].count()\\\n",
    "    .reset_index().rename(columns={'bid_id':'bids_count_per_bidder_url'}) \\\n",
    "    .groupby(['bidder_id'])['bids_count_per_bidder_url'].mean()\\\n",
    "    .reset_index().rename(columns={'bids_count_per_bidder_url':'avg_bid_url_bidder'})\n",
    "\n",
    "avg_bid_url_bidder.head()\n",
    "\n"
   ]
  },
  {
   "cell_type": "code",
   "execution_count": 20,
   "metadata": {},
   "outputs": [
    {
     "data": {
      "text/plain": [
       "(1984, 12)"
      ]
     },
     "execution_count": 20,
     "metadata": {},
     "output_type": "execute_result"
    }
   ],
   "source": [
    "dd = d[['bidder_id','outcome']].drop_duplicates()\\\n",
    "    .merge(tot_bid, on='bidder_id', how='inner')\\\n",
    "    .merge(tot_auc, on='bidder_id', how='inner')\\\n",
    "    .merge(max_bid_ctry_bidder, on='bidder_id', how='inner')\\\n",
    "    .merge(tot_url, on='bidder_id', how='inner')\\\n",
    "    .merge(tot_uni_time, on='bidder_id', how='inner')\\\n",
    "    .merge(tot_device, on='bidder_id', how='inner')\\\n",
    "    .merge(tot_ip, on='bidder_id', how='inner')\\\n",
    "    .merge(tot_merch, on='bidder_id', how='inner')\\\n",
    "    .merge(avg_bid_auction_bidder, on='bidder_id', how='inner')\\\n",
    "    .merge(avg_bid_url_bidder, on='bidder_id', how='inner')\n",
    "dd.shape"
   ]
  },
  {
   "cell_type": "code",
   "execution_count": 21,
   "metadata": {},
   "outputs": [
    {
     "data": {
      "text/html": [
       "<div>\n",
       "<style scoped>\n",
       "    .dataframe tbody tr th:only-of-type {\n",
       "        vertical-align: middle;\n",
       "    }\n",
       "\n",
       "    .dataframe tbody tr th {\n",
       "        vertical-align: top;\n",
       "    }\n",
       "\n",
       "    .dataframe thead th {\n",
       "        text-align: right;\n",
       "    }\n",
       "</style>\n",
       "<table border=\"1\" class=\"dataframe\">\n",
       "  <thead>\n",
       "    <tr style=\"text-align: right;\">\n",
       "      <th></th>\n",
       "      <th>bidder_id</th>\n",
       "      <th>outcome</th>\n",
       "      <th>tot_bid</th>\n",
       "      <th>tot_auc</th>\n",
       "      <th>max_bid_ctry_bidder</th>\n",
       "      <th>tot_url</th>\n",
       "      <th>tot_uni_time</th>\n",
       "      <th>tot_device</th>\n",
       "      <th>tot_ip</th>\n",
       "      <th>tot_merch</th>\n",
       "      <th>avg_bid_auction_bidder</th>\n",
       "      <th>avg_bid_url_bidder</th>\n",
       "    </tr>\n",
       "  </thead>\n",
       "  <tbody>\n",
       "    <tr>\n",
       "      <th>0</th>\n",
       "      <td>668d393e858e8126275433046bbd35c6tywop</td>\n",
       "      <td>0.0</td>\n",
       "      <td>19988</td>\n",
       "      <td>594</td>\n",
       "      <td>6924</td>\n",
       "      <td>4527</td>\n",
       "      <td>18961</td>\n",
       "      <td>1029</td>\n",
       "      <td>10316</td>\n",
       "      <td>1</td>\n",
       "      <td>33.649832</td>\n",
       "      <td>4.415286</td>\n",
       "    </tr>\n",
       "    <tr>\n",
       "      <th>1</th>\n",
       "      <td>e8291466de91b0eb4e1515143c7f74dexy2yr</td>\n",
       "      <td>0.0</td>\n",
       "      <td>30062</td>\n",
       "      <td>787</td>\n",
       "      <td>4274</td>\n",
       "      <td>295</td>\n",
       "      <td>27969</td>\n",
       "      <td>403</td>\n",
       "      <td>20492</td>\n",
       "      <td>1</td>\n",
       "      <td>38.198221</td>\n",
       "      <td>101.905085</td>\n",
       "    </tr>\n",
       "    <tr>\n",
       "      <th>2</th>\n",
       "      <td>a58ace8b671a7531c88814bc86b2a34cf0crb</td>\n",
       "      <td>0.0</td>\n",
       "      <td>192565</td>\n",
       "      <td>748</td>\n",
       "      <td>45027</td>\n",
       "      <td>36518</td>\n",
       "      <td>122781</td>\n",
       "      <td>2020</td>\n",
       "      <td>53405</td>\n",
       "      <td>1</td>\n",
       "      <td>257.439840</td>\n",
       "      <td>5.273153</td>\n",
       "    </tr>\n",
       "    <tr>\n",
       "      <th>3</th>\n",
       "      <td>7e34a26c4c339e875997f4b9239d2b5fscng4</td>\n",
       "      <td>0.0</td>\n",
       "      <td>9108</td>\n",
       "      <td>162</td>\n",
       "      <td>8978</td>\n",
       "      <td>1886</td>\n",
       "      <td>8895</td>\n",
       "      <td>367</td>\n",
       "      <td>6046</td>\n",
       "      <td>1</td>\n",
       "      <td>56.222222</td>\n",
       "      <td>4.829268</td>\n",
       "    </tr>\n",
       "    <tr>\n",
       "      <th>4</th>\n",
       "      <td>6c8ffec692e88d81e1b18d47818abb04v6llr</td>\n",
       "      <td>0.0</td>\n",
       "      <td>84319</td>\n",
       "      <td>963</td>\n",
       "      <td>12012</td>\n",
       "      <td>13416</td>\n",
       "      <td>68972</td>\n",
       "      <td>1610</td>\n",
       "      <td>27560</td>\n",
       "      <td>1</td>\n",
       "      <td>87.558671</td>\n",
       "      <td>6.284958</td>\n",
       "    </tr>\n",
       "  </tbody>\n",
       "</table>\n",
       "</div>"
      ],
      "text/plain": [
       "                               bidder_id  outcome  tot_bid  tot_auc  \\\n",
       "0  668d393e858e8126275433046bbd35c6tywop      0.0    19988      594   \n",
       "1  e8291466de91b0eb4e1515143c7f74dexy2yr      0.0    30062      787   \n",
       "2  a58ace8b671a7531c88814bc86b2a34cf0crb      0.0   192565      748   \n",
       "3  7e34a26c4c339e875997f4b9239d2b5fscng4      0.0     9108      162   \n",
       "4  6c8ffec692e88d81e1b18d47818abb04v6llr      0.0    84319      963   \n",
       "\n",
       "   max_bid_ctry_bidder  tot_url  tot_uni_time  tot_device  tot_ip  tot_merch  \\\n",
       "0                 6924     4527         18961        1029   10316          1   \n",
       "1                 4274      295         27969         403   20492          1   \n",
       "2                45027    36518        122781        2020   53405          1   \n",
       "3                 8978     1886          8895         367    6046          1   \n",
       "4                12012    13416         68972        1610   27560          1   \n",
       "\n",
       "   avg_bid_auction_bidder  avg_bid_url_bidder  \n",
       "0               33.649832            4.415286  \n",
       "1               38.198221          101.905085  \n",
       "2              257.439840            5.273153  \n",
       "3               56.222222            4.829268  \n",
       "4               87.558671            6.284958  "
      ]
     },
     "execution_count": 21,
     "metadata": {},
     "output_type": "execute_result"
    }
   ],
   "source": [
    "dd.head()"
   ]
  },
  {
   "cell_type": "markdown",
   "metadata": {},
   "source": [
    "## 3.3 Feature Selection"
   ]
  },
  {
   "cell_type": "code",
   "execution_count": 24,
   "metadata": {},
   "outputs": [
    {
     "name": "stdout",
     "output_type": "stream",
     "text": [
      "Fitting estimator with 10 features.\n",
      "Fitting estimator with 9 features.\n",
      "Fitting estimator with 8 features.\n",
      "Fitting estimator with 7 features.\n",
      "Fitting estimator with 6 features.\n"
     ]
    },
    {
     "data": {
      "text/plain": [
       "RFE(estimator=GradientBoostingClassifier(criterion='friedman_mse', init=None,\n",
       "                                         learning_rate=0.1, loss='deviance',\n",
       "                                         max_depth=4, max_features=None,\n",
       "                                         max_leaf_nodes=None,\n",
       "                                         min_impurity_decrease=0.0,\n",
       "                                         min_impurity_split=None,\n",
       "                                         min_samples_leaf=1,\n",
       "                                         min_samples_split=4,\n",
       "                                         min_weight_fraction_leaf=0.0,\n",
       "                                         n_estimators=100,\n",
       "                                         n_iter_no_change=None, presort='auto',\n",
       "                                         random_state=None, subsample=1.0,\n",
       "                                         tol=0.0001, validation_fraction=0.1,\n",
       "                                         verbose=0, warm_start=False),\n",
       "    n_features_to_select=None, step=1, verbose=3)"
      ]
     },
     "execution_count": 24,
     "metadata": {},
     "output_type": "execute_result"
    }
   ],
   "source": [
    "### Feature Selection with RFECV\n",
    "\n",
    "params = {'n_estimators':100\n",
    "          , 'max_depth':4\n",
    "          , 'min_samples_split':4\n",
    "          , 'learning_rate':.1\n",
    "          ,'loss':'deviance'}\n",
    "\n",
    "GB = GradientBoostingClassifier(**params)\n",
    "selector = RFE(estimator=GB, step=1,verbose=3)\n",
    "selector.fit(dd[[i for i in dd.columns if i not in ['bidder_id','outcome']]]\n",
    "             ,dd.loc[:,'outcome'])"
   ]
  },
  {
   "cell_type": "code",
   "execution_count": 25,
   "metadata": {},
   "outputs": [
    {
     "name": "stdout",
     "output_type": "stream",
     "text": [
      "   ranking                variable\n",
      "0        1  avg_bid_auction_bidder\n",
      "1        1      avg_bid_url_bidder\n",
      "2        1                 tot_bid\n",
      "3        1              tot_device\n",
      "4        1                  tot_ip\n",
      "5        2                 tot_url\n",
      "6        3                 tot_auc\n",
      "7        4     max_bid_ctry_bidder\n",
      "8        5            tot_uni_time\n",
      "9        6               tot_merch\n"
     ]
    }
   ],
   "source": [
    "var_all = [i for i in dd.columns if i not in ['bidder_id','outcome']]\n",
    "var_selected = pd.DataFrame(sorted(zip(map(lambda x: round(x), selector.ranking_), var_all)),\n",
    "                            columns = ['ranking', 'variable'])\n",
    "\n",
    "print(var_selected)"
   ]
  },
  {
   "cell_type": "code",
   "execution_count": 30,
   "metadata": {},
   "outputs": [
    {
     "data": {
      "text/plain": [
       "['avg_bid_auction_bidder',\n",
       " 'avg_bid_url_bidder',\n",
       " 'tot_bid',\n",
       " 'tot_device',\n",
       " 'tot_ip']"
      ]
     },
     "execution_count": 30,
     "metadata": {},
     "output_type": "execute_result"
    }
   ],
   "source": [
    "variables = var_selected.loc[var_selected['ranking']==1,'variable'].to_list()\n",
    "variables"
   ]
  },
  {
   "cell_type": "markdown",
   "metadata": {},
   "source": [
    "## 4. Model Development"
   ]
  },
  {
   "cell_type": "markdown",
   "metadata": {},
   "source": [
    "### 4.1 Data Pre-processing"
   ]
  },
  {
   "cell_type": "code",
   "execution_count": 31,
   "metadata": {},
   "outputs": [],
   "source": [
    "\n",
    "# Data Partition\n",
    "X_train, X_test, y_train, y_test = train_test_split(dd[var_all]\n",
    "                                                    ,dd['outcome']\n",
    "                                                    ,random_state=54\n",
    "                                                    ,test_size=0.25)"
   ]
  },
  {
   "cell_type": "code",
   "execution_count": 32,
   "metadata": {},
   "outputs": [],
   "source": [
    "# Scaling\n",
    "# pipe = Pipeline([\n",
    "#     #('selector', DataFrameSelector(numeric.columns.tolist())),\n",
    "#     ('scaler', StandardScaler()),\n",
    "# ])\n",
    "\n",
    "#Scaling Numerical columns\n",
    "scaler = StandardScaler()\n",
    "\n",
    "X_train_scaled = pd.DataFrame(\n",
    "    scaler.fit_transform(X_train[variables])\n",
    "    ,columns=variables\n",
    ")\n",
    "\n",
    "X_test_scaled = pd.DataFrame(\n",
    "    scaler.fit_transform(X_test[variables])\n",
    "    ,columns=variables\n",
    ")\n"
   ]
  },
  {
   "cell_type": "markdown",
   "metadata": {},
   "source": [
    "### 4.2 Baseline Model: Logistic Regression"
   ]
  },
  {
   "cell_type": "code",
   "execution_count": 42,
   "metadata": {},
   "outputs": [],
   "source": [
    "\n",
    "#Function attributes\n",
    "#Algorithm     - Algorithm used \n",
    "#training_x    - predictor variables dataframe(training)\n",
    "#testing_x     - predictor variables dataframe(testing)\n",
    "#training_y    - target variable(training)\n",
    "#training_y    - target variable(testing)\n",
    "#cf - [\"coefficients\",\"features\"](cooefficients for logistic regression,\n",
    "\n",
    "#threshold_plot - if True returns threshold plot for model\n",
    "    \n",
    "def classifier(algorithm\n",
    "               ,training_x,testing_x,training_y,testing_y\n",
    "               ,cf) :\n",
    "    \n",
    "    #model\n",
    "    algorithm.fit(training_x,training_y)\n",
    "    #predictions   = algorithm.predict(testing_x)\n",
    "    probabilities = algorithm.predict_proba(testing_x)\n",
    "    \n",
    "    #coefficients\n",
    "    if   cf == \"coefficients\" :\n",
    "        coefficients  = pd.DataFrame(algorithm.coef_.ravel())\n",
    "    elif cf == \"features\" :\n",
    "        coefficients  = pd.DataFrame(algorithm.feature_importances_)\n",
    "        \n",
    "    coef_sumry = pd.DataFrame(X_train_scaled.columns)\\\n",
    "            .merge(coefficients, left_index= True, right_index= True, how='inner')\n",
    "    coef_sumry.columns = [\"Feature\",\"Importance\"]\n",
    "    coef_sumry.sort_values(by = \"Importance\",ascending = False)\\\n",
    "        .plot('Feature', 'Importance', kind='bar')\n",
    "    \n",
    "    plt.show()\n",
    "\n",
    "    #model performance \n",
    "    roc_auc = roc_auc_score(testing_y,probabilities[:,1]) \n",
    "    fpr, tpr, thresholds = roc_curve(testing_y,probabilities[:,1])\n",
    "    precision, recall, thresholds2 = precision_recall_curve(testing_y, probabilities[:,1])\n",
    "    \n",
    "    #fig, ax = plt.subplots(1, 2, sharey=False, sharex=False)\n",
    "\n",
    "    plt.step(fpr, tpr, label='ROC')\n",
    "    plt.xlabel('False Positive Rate')\n",
    "    plt.xlabel('True Positive Rate')\n",
    "    plt.legend()\n",
    "    plt.show()\n",
    "    \n",
    "    plt.step(recall, precision, label='PRC')\n",
    "    plt.xlabel('Recall')\n",
    "    plt.xlabel('Precision')\n",
    "    plt.legend()\n",
    "    plt.show()\n",
    "    \n",
    "    \n",
    "    print (algorithm)\n",
    "    print (\"Area under curve : \",roc_auc,\"\\n\")\n"
   ]
  },
  {
   "cell_type": "code",
   "execution_count": 43,
   "metadata": {},
   "outputs": [
    {
     "data": {
      "image/png": "[encoded data removed]",
      "text/plain": [
       "<Figure size 432x288 with 1 Axes>"
      ]
     },
     "metadata": {
      "needs_background": "light"
     },
     "output_type": "display_data"
    },
    {
     "data": {
      "image/png": "[encoded data removed]",
      "text/plain": [
       "<Figure size 432x288 with 1 Axes>"
      ]
     },
     "metadata": {
      "needs_background": "light"
     },
     "output_type": "display_data"
    },
    {
     "data": {
      "image/png": "[encoded data removed]",
      "text/plain": [
       "<Figure size 432x288 with 1 Axes>"
      ]
     },
     "metadata": {
      "needs_background": "light"
     },
     "output_type": "display_data"
    },
    {
     "name": "stdout",
     "output_type": "stream",
     "text": [
      "LogisticRegression(C=1.0, class_weight=None, dual=False, fit_intercept=True,\n",
      "                   intercept_scaling=1, l1_ratio=None, max_iter=100,\n",
      "                   multi_class='ovr', n_jobs=1, penalty='l2', random_state=None,\n",
      "                   solver='liblinear', tol=0.0001, verbose=0, warm_start=False)\n",
      "Area under curve :  0.8200202224469161 \n",
      "\n"
     ]
    }
   ],
   "source": [
    "logit  = LogisticRegression(C=1.0, class_weight=None, dual=False, fit_intercept=True,\n",
    "          intercept_scaling=1, max_iter=100, multi_class='ovr', n_jobs=1,\n",
    "          penalty='l2', random_state=None, solver='liblinear', tol=0.0001,\n",
    "          verbose=0, warm_start=False)\n",
    "\n",
    "classifier(logit,X_train_scaled,X_test_scaled,y_train,y_test,\"coefficients\")"
   ]
  },
  {
   "cell_type": "code",
   "execution_count": 46,
   "metadata": {},
   "outputs": [],
   "source": [
    "gbm  = GradientBoostingClassifier(\n",
    "    loss='deviance')\n",
    "\n",
    "params = {\"max_depth\" : [3, 5, 10]\n",
    "          ,\"learning_rate\" : [0.1, 0.01]\n",
    "          ,\"n_estimators\": [100, 200]\n",
    "         }\n",
    "\n",
    "gs = GridSearchCV(estimator=gbm\n",
    "                  ,param_grid=params\n",
    "                  ,scoring='roc_auc'\n",
    "                  ,cv=3\n",
    "                 )"
   ]
  },
  {
   "cell_type": "code",
   "execution_count": 48,
   "metadata": {},
   "outputs": [
    {
     "name": "stdout",
     "output_type": "stream",
     "text": [
      "Best parameters:  {'learning_rate': 0.01, 'max_depth': 3, 'n_estimators': 200}\n",
      "GradientBoostingClassifier(criterion='friedman_mse', init=None,\n",
      "                           learning_rate=0.01, loss='deviance', max_depth=3,\n",
      "                           max_features=None, max_leaf_nodes=None,\n",
      "                           min_impurity_decrease=0.0, min_impurity_split=None,\n",
      "                           min_samples_leaf=1, min_samples_split=2,\n",
      "                           min_weight_fraction_leaf=0.0, n_estimators=200,\n",
      "                           n_iter_no_change=None, presort='auto',\n",
      "                           random_state=None, subsample=1.0, tol=0.0001,\n",
      "                           validation_fraction=0.1, verbose=0,\n",
      "                           warm_start=False)\n",
      "Best AUC:  0.8808462404265242\n"
     ]
    }
   ],
   "source": [
    "grid_result = gs.fit(X_train, np.ravel(y_train))\n",
    "\n",
    "print('Best parameters: ',grid_result.best_params_)\n",
    "print(grid_result.best_estimator_)\n",
    "print('Best AUC: ', grid_result.best_score_)"
   ]
  },
  {
   "cell_type": "code",
   "execution_count": 49,
   "metadata": {},
   "outputs": [
    {
     "data": {
      "image/png": "[encoded data removed]",
      "text/plain": [
       "<Figure size 432x288 with 1 Axes>"
      ]
     },
     "metadata": {
      "needs_background": "light"
     },
     "output_type": "display_data"
    },
    {
     "data": {
      "image/png": "[encoded data removed]",
      "text/plain": [
       "<Figure size 432x288 with 1 Axes>"
      ]
     },
     "metadata": {
      "needs_background": "light"
     },
     "output_type": "display_data"
    },
    {
     "data": {
      "image/png": "[encoded data removed]",
      "text/plain": [
       "<Figure size 432x288 with 1 Axes>"
      ]
     },
     "metadata": {
      "needs_background": "light"
     },
     "output_type": "display_data"
    },
    {
     "name": "stdout",
     "output_type": "stream",
     "text": [
      "GradientBoostingClassifier(criterion='friedman_mse', init=None,\n",
      "                           learning_rate=0.01, loss='deviance', max_depth=3,\n",
      "                           max_features=None, max_leaf_nodes=None,\n",
      "                           min_impurity_decrease=0.0, min_impurity_split=None,\n",
      "                           min_samples_leaf=1, min_samples_split=2,\n",
      "                           min_weight_fraction_leaf=0.0, n_estimators=200,\n",
      "                           n_iter_no_change=None, presort='auto',\n",
      "                           random_state=None, subsample=1.0, tol=0.0001,\n",
      "                           validation_fraction=0.1, verbose=0,\n",
      "                           warm_start=False)\n",
      "Area under curve :  0.7832521371449582 \n",
      "\n"
     ]
    }
   ],
   "source": [
    "classifier(grid_result.best_estimator_,X_train_scaled,X_test_scaled,y_train,y_test,\"features\")"
   ]
  },
  {
   "cell_type": "code",
   "execution_count": 45,
   "metadata": {},
   "outputs": [
    {
     "data": {
      "image/png": "[encoded data removed]",
      "text/plain": [
       "<Figure size 432x288 with 1 Axes>"
      ]
     },
     "metadata": {
      "needs_background": "light"
     },
     "output_type": "display_data"
    },
    {
     "data": {
      "image/png": "[encoded data removed]",
      "text/plain": [
       "<Figure size 432x288 with 1 Axes>"
      ]
     },
     "metadata": {
      "needs_background": "light"
     },
     "output_type": "display_data"
    },
    {
     "data": {
      "image/png": "[encoded data removed]",
      "text/plain": [
       "<Figure size 432x288 with 1 Axes>"
      ]
     },
     "metadata": {
      "needs_background": "light"
     },
     "output_type": "display_data"
    },
    {
     "name": "stdout",
     "output_type": "stream",
     "text": [
      "RandomForestClassifier(bootstrap=True, class_weight=None, criterion='gini',\n",
      "                       max_depth=None, max_features='auto', max_leaf_nodes=None,\n",
      "                       min_impurity_decrease=0.0, min_impurity_split=None,\n",
      "                       min_samples_leaf=1, min_samples_split=10,\n",
      "                       min_weight_fraction_leaf=0.0, n_estimators=200,\n",
      "                       n_jobs=-1, oob_score=False, random_state=50, verbose=0,\n",
      "                       warm_start=False)\n",
      "Area under curve :  0.8913043478260869 \n",
      "\n"
     ]
    }
   ],
   "source": [
    "rfc = RandomForestClassifier(n_estimators = 200,\n",
    "                             min_samples_split = 10,\n",
    "                             #max_depth = 8,\n",
    "                             n_jobs = -1,\n",
    "                             criterion = \"gini\"\n",
    "                            ,random_state=50)\n",
    "\n",
    "classifier(rfc,X_train_scaled,X_test_scaled,y_train,y_test,\"features\")"
   ]
  },
  {
   "cell_type": "code",
   "execution_count": 42,
   "metadata": {},
   "outputs": [],
   "source": [
    "# lgbm_c = LGBMClassifier(boosting_type='gbdt', class_weight=None, colsample_bytree=1.0,\n",
    "#                         learning_rate=0.5, max_depth=7, min_child_samples=20,\n",
    "#                         min_child_weight=0.001, min_split_gain=0.0, n_estimators=100,\n",
    "#                         n_jobs=-1, num_leaves=500, objective='binary', random_state=None,\n",
    "#                         reg_alpha=0.0, reg_lambda=0.0, silent=True, subsample=1.0,\n",
    "#                         subsample_for_bin=200000, subsample_freq=0)\n",
    "\n",
    "# #cols = [i for i in telcom.columns if i not in Id_col + target_col]\n",
    "# telecom_churn_prediction(lgbm_c,X_train_scaled,X_test_scaled,y_train,y_test,\n",
    "#                          variables,\"features\",threshold_plot = True)"
   ]
  },
  {
   "cell_type": "code",
   "execution_count": null,
   "metadata": {},
   "outputs": [],
   "source": []
  },
  {
   "cell_type": "code",
   "execution_count": 43,
   "metadata": {},
   "outputs": [],
   "source": [
    "# xgc = XGBClassifier(n_estimators=300,\n",
    "#                         learning_rate = 0.01,\n",
    "#                         max_depth = 2,\n",
    "#                         objective = 'binary:logistic',\n",
    "#                         n_jobs = -1)\n",
    "\n",
    "\n",
    "# telecom_churn_prediction(xgc,X_train,X_test,y_train,y_test,\n",
    "#                          variables,\"features\",threshold_plot = True)"
   ]
  },
  {
   "cell_type": "markdown",
   "metadata": {},
   "source": [
    "### 4.3 Random Forest"
   ]
  },
  {
   "cell_type": "code",
   "execution_count": 44,
   "metadata": {},
   "outputs": [],
   "source": [
    "# rfc = RandomForestClassifier(n_estimators = 100,\n",
    "#                                 min_samples_split = 10,\n",
    "#                                 max_depth = 8,\n",
    "#                                 n_jobs = -1,\n",
    "#                              criterion = \"gini\")\n",
    "\n",
    "# telecom_churn_prediction(rfc,X_train,X_test,y_train,y_test,\n",
    "#                          variables,\"features\",threshold_plot = True)"
   ]
  }
 ],
 "metadata": {
  "kernelspec": {
   "display_name": "Python 3",
   "language": "python",
   "name": "python3"
  },
  "language_info": {
   "codemirror_mode": {
    "name": "ipython",
    "version": 3
   },
   "file_extension": ".py",
   "mimetype": "text/x-python",
   "name": "python",
   "nbconvert_exporter": "python",
   "pygments_lexer": "ipython3",
   "version": "3.7.3"
  }
 },
 "nbformat": 4,
 "nbformat_minor": 2
}
